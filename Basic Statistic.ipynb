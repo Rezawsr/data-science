{
 "cells": [
  {
   "cell_type": "markdown",
   "id": "86f416c9-9cfd-4dbe-85de-83346e7586a5",
   "metadata": {},
   "source": [
    "# Descriptive Statistic \n",
    ">Statistik Deskriptif merupakan proses analisis statistik yang fokus kepada manajemen,penyajian dan klasifikasi data, dengan proses ini daya yang disajikan lebih menarik lebih mudah dipahami, dan mampu memberikan makna lebih bagi pengguna data, bisa dikatakan ini adalah anaisis dasar yang wajib dikuasi oleh setiap orang yang bekerja dengan data\n",
    "\n",
    ">Contoh yang biasa kita lakukan didalam tipe statistik ini biasanya meliputi analisis data, pembuatan grapich, dan menghitung berbagai macam pengukuran data\n"
   ]
  },
  {
   "cell_type": "markdown",
   "id": "a4f79791-6f7d-4c9a-9599-156b1ec0fc2e",
   "metadata": {},
   "source": [
    "![img](https://d1m75rqqgidzqn.cloudfront.net/wp-data/2021/06/14125401/image-24.png)"
   ]
  },
  {
   "cell_type": "markdown",
   "id": "0fdbc731-12ef-4fcd-99bd-828d44fdc185",
   "metadata": {},
   "source": [
    "# Measure Of Central Tendency\n",
    "\n",
    "> Measure of central tendency(ukuran pemusatan) adalah metode paling lazim yang digunakan dalam analisis daya deskriptif, Metode ini fokus untuk menggambarkan kondisi data di titik pusat.\n",
    "\n",
    ">Secara umum kita bisa melihat bagaimana kondisi data yang melihat dimana letak pusat data tersebut. Biasanya pusat data sendiri akan berada pada nilai tengah. meskipun tidak selalu demikian\n",
    "\n",
    ">untuk membuktikan hal ini secara matematis maka pengukuran yang sering digunakan adalah `mean,median`, dan `mode`"
   ]
  },
  {
   "cell_type": "markdown",
   "id": "7d96ef53-1a9f-4bd0-83b4-c3c90841740f",
   "metadata": {},
   "source": [
    "- **Mean** merupakan rata-rata dari sekumpulan data yang kita miliki Formulanya sangat sederhana . kita hanya perlu menjumlah nilai dari seluruh data yang dimiliki dan membaginya dengan junlah data tersebut.\n",
    "\n",
    "- **Median** adalah nilai tengah dari sebuah data. bila kita memiliki sekumpulan data. kita bisa mengurutkan data tersebut dari nilai terkecil hingga terbesar. jika kita memiliki jumlah data ganjil. maka nilai tengah data tersebut akan langsung menjadi mendian. namun bila kita memiliki data genap. juta perlu menemukan nilai rata rata dari nilai tengah data tersebut.\n",
    "\n",
    "- **Mode** adalah nilai paling sering muncul dalam seklompok data. kita hanya perlu melihat nilai mana yang paling sering muncul dalam kelompok tersebut. bila jumlah frekuensi. setiap data sama, maka nilai modus tidak ada"
   ]
  },
  {
   "cell_type": "markdown",
   "id": "24a3eb81-c568-4d53-abcd-0588b5de6caa",
   "metadata": {},
   "source": [
    "![img](https://belajarkalkulus.com/wp-content/uploads/2019/06/frequency.jpg)"
   ]
  },
  {
   "cell_type": "markdown",
   "id": "0ffba302-793b-4725-a3c4-affc247ca06c",
   "metadata": {
    "jp-MarkdownHeadingCollapsed": true,
    "tags": []
   },
   "source": [
    "# MEASURE OF DISPERSION / SPREAD\n",
    "\n",
    "> measure of dispersion (ukuran sebaran _ merupakan ukuran untuk menyajikan bagaimna sebaran dari setiap data. Measrue of dispersion menunjukan bagaimana kondisi sebuah data menyebar di kelompok data yang kita miliki, hal ini memungkinkan kita untuk menganalisis seberapa jauh data-data tersebut tersebar dari ukuran pemutaranya\n",
    "\n",
    "> Bila sebaran datanya rendah, ini menunjukan bahwa data tersebar tidak jauh dari pusatnya, sebaliknya bila sebaranya jauh ini menunjukan bahwa data tersebut jauh dari pusatnya\n",
    "\n",
    "> Ada beberapa yang sering digunakan untuk mengukur sebaran data, diantranya adalah:\n",
    "\n",
    "> - **Range** menunjukan seberapa jauh sebaran dengan mengabaikan bentuk distribusinya,\n",
    "> - **Quartile** merupakan ukuran penyebaran yang membagi data menjadi 4 bagian, sesuai dengan namanya kuarti membagi data menjadi 25% di setiap bagianya\n",
    "> - **Variance** adalah pengukuran suatu variabilitas dari data yang mengetahui seberapa jauh data yang dimiliki diatas.\n",
    "> - **Standar Deviation** adalah measure of spread yang paling sering digunakan karena memeberikan informasi yang jelas dan intuitif. Untuk mendapatkan nilai standart deviation kita hanya perlu melakukan akar kuadrat terhadap variance. Standart deviation menggambarkan seberapa berbeda nilai di data kita terhadap mean.\n",
    "> - **Skewness** Merupakan Statistik yang digunakan dalam memberikan gambaran distribusi data apakah miring ke kiri, ke kanan atau simetris\n",
    "> - **Kurtosis** Merupakan Statistik yyang digunakan dalam memberikan gambaran apakah distribusi data cenderung rata atau runcing "
   ]
  },
  {
   "cell_type": "markdown",
   "id": "f6aefbe5-f499-46b0-bfc3-b7738aa2adb5",
   "metadata": {},
   "source": [
    "![img](https://cdn.lecturio.com/assets/Measures-of-Central-Tendency-and-Dispersion.png)"
   ]
  },
  {
   "cell_type": "markdown",
   "id": "49587ca7-20ab-42db-b32a-fc9068dab070",
   "metadata": {},
   "source": [
    ">Python dan beberapa librarynya seperti Numpy, Pandas, Scipy, yang memiliki fungsi bawaan yang dapat kita gunakan untuk mencari nilai nilai diatas"
   ]
  },
  {
   "cell_type": "code",
   "execution_count": 2,
   "id": "4ac3fbc0-c1bc-4dbe-ad87-bf47a5a21307",
   "metadata": {},
   "outputs": [],
   "source": [
    "import numpy as np\n",
    "import pandas as pd\n",
    "import matplotlib.pyplot as plt\n",
    "import seaborn as sns\n",
    "from scipy import stats\n",
    "import warnings\n",
    "warnings.filterwarnings(\"ignore\")"
   ]
  },
  {
   "cell_type": "code",
   "execution_count": 3,
   "id": "eb496d8f-91f0-4716-9545-d90f1e1484de",
   "metadata": {},
   "outputs": [],
   "source": [
    "titanic = sns.load_dataset(\"titanic\")"
   ]
  },
  {
   "cell_type": "code",
   "execution_count": 4,
   "id": "20d86041-ef4b-47df-8e4e-6e37ade8c07d",
   "metadata": {},
   "outputs": [
    {
     "name": "stdout",
     "output_type": "stream",
     "text": [
      "<class 'pandas.core.frame.DataFrame'>\n",
      "RangeIndex: 891 entries, 0 to 890\n",
      "Data columns (total 15 columns):\n",
      " #   Column       Non-Null Count  Dtype   \n",
      "---  ------       --------------  -----   \n",
      " 0   survived     891 non-null    int64   \n",
      " 1   pclass       891 non-null    int64   \n",
      " 2   sex          891 non-null    object  \n",
      " 3   age          714 non-null    float64 \n",
      " 4   sibsp        891 non-null    int64   \n",
      " 5   parch        891 non-null    int64   \n",
      " 6   fare         891 non-null    float64 \n",
      " 7   embarked     889 non-null    object  \n",
      " 8   class        891 non-null    category\n",
      " 9   who          891 non-null    object  \n",
      " 10  adult_male   891 non-null    bool    \n",
      " 11  deck         203 non-null    category\n",
      " 12  embark_town  889 non-null    object  \n",
      " 13  alive        891 non-null    object  \n",
      " 14  alone        891 non-null    bool    \n",
      "dtypes: bool(2), category(2), float64(2), int64(4), object(5)\n",
      "memory usage: 80.7+ KB\n"
     ]
    }
   ],
   "source": [
    "titanic.info()"
   ]
  },
  {
   "cell_type": "markdown",
   "id": "750a44ff-c9de-470f-8d14-486b69e4a70b",
   "metadata": {},
   "source": [
    "# Measure Of Central Tandency\n",
    "- Numpy https://numpy.org/doc/stable/reference/routines.statistics.html\n",
    "- Pandas https://pandas.pydata.org/pandas-docs/stable/getting_started/intro_tutorials/06_calculate_statistics.html\n",
    "- Scipy https://docs.scipy.org/doc/scipy/reference/stats.html"
   ]
  },
  {
   "cell_type": "code",
   "execution_count": 8,
   "id": "45ba9f0b-cd57-4c68-bbaa-259b64e73a81",
   "metadata": {},
   "outputs": [
    {
     "name": "stdout",
     "output_type": "stream",
     "text": [
      "Nilai Mean = 32.2042079685746\n",
      "Nilai Median = 14.4542\n",
      "Nilai Mode = [8.05]\n"
     ]
    }
   ],
   "source": [
    "#memakai numpy\n",
    "print(\"Nilai Mean =\", np.mean(titanic['fare']))\n",
    "print(\"Nilai Median =\", np.median(titanic['fare']))\n",
    "print(\"Nilai Mode =\", stats.mode(titanic['fare'])[0])"
   ]
  },
  {
   "cell_type": "code",
   "execution_count": 11,
   "id": "8cc8eab2-a124-4bde-b025-bfd16507ea3e",
   "metadata": {},
   "outputs": [
    {
     "name": "stdout",
     "output_type": "stream",
     "text": [
      "Nilai Mean = 32.2042079685746\n",
      "Nilai Median = 14.4542\n",
      "Nilai Mode = 8.05\n"
     ]
    }
   ],
   "source": [
    "#memakai pandas\n",
    "print(\"Nilai Mean =\", titanic['fare'].mean())\n",
    "print(\"Nilai Median =\", titanic['fare'].median())\n",
    "print(\"Nilai Mode =\", titanic['fare'].mode()[0])"
   ]
  },
  {
   "cell_type": "markdown",
   "id": "da700d3a-de70-4af2-afb1-9173b1ae381e",
   "metadata": {},
   "source": [
    "# PERTIMBANGAN DALAM MENGISI NULL VELUES\n",
    "\n",
    "# Pros :\n",
    "\n",
    "\n",
    ">- **Mean**\n",
    ">1. dalam perhitungan selalu mempertimbangkan semua nilai\n",
    ">2. tidak peka terhadap penambahan jumlah data.\n",
    ">3. cocok digunakan untuk data yang homogen\n",
    "\n",
    ">- **Median**\n",
    ">1. tidak terpengaruh outlier.\n",
    ">2. dapat digunakan untuk data kualitatif maupun kuantitatif\n",
    ">3. cocok untuk data heterogen\n",
    "\n",
    ">- **Mode**\n",
    ">1. Tidak terpengaruh outlier\n",
    ">2. cocok digunakan untuk data kuantitatif maupun kualitatif"
   ]
  },
  {
   "cell_type": "markdown",
   "id": "874ac59c-a23d-44d5-8813-607de43b0bab",
   "metadata": {},
   "source": [
    "# Cons :\n",
    "\n",
    "> - **Mean**\n",
    "> 1. Sangat peka terhadap data outlier. Jika outlier banyak, rata-rata menjadi kurang represntatif.\n",
    "> 2. Tidak dapat digunakan untuk data kualitatif\n",
    "> 3. Tidak cocok untuk data heterogen\n",
    "\n",
    "> - **Median**\n",
    "> 1. Tidak mempertimbangkan semua nilai data.\n",
    "> 2. kurang menggambarkan rata-rata populasi,\n",
    "> 3. Peka terhadap penambahan jumlah data.\n",
    "\n",
    "> - **Mode**\n",
    "> 1. Tidak sekaky ada dalam satu dataset\n",
    "> 2. Kadang dalam satu dataset terdapa dua atau lebih modus, jika hal itu terjadi maka modus menjadi sulit digunakan\n",
    "> 3. kurang mempertimbangkan semua nilai\n",
    "> 4. Peka terhadap penambahan jumlah data"
   ]
  },
  {
   "cell_type": "code",
   "execution_count": 15,
   "id": "6081caea-095d-431c-8d78-6999c9e88f6f",
   "metadata": {},
   "outputs": [
    {
     "data": {
      "image/png": "[encoded data removed]",
      "text/plain": [
       "<Figure size 720x360 with 1 Axes>"
      ]
     },
     "metadata": {
      "needs_background": "light"
     },
     "output_type": "display_data"
    }
   ],
   "source": [
    "# Visualisasi Central Tendency\n",
    "plt.figure(figsize=(10,5))\n",
    "sns.distplot(titanic['fare'])\n",
    "plt.axvline(titanic['fare'].mean(), color='red', ls='--')\n",
    "plt.axvline(titanic['fare'].median(), color='purple', ls=\"--\")\n",
    "plt.axvline(titanic['fare'].mode()[0], color='green', ls='--')\n",
    "plt.show()"
   ]
  },
  {
   "cell_type": "markdown",
   "id": "c588eb1c-48fe-4808-83dd-b0b52ed0497a",
   "metadata": {},
   "source": [
    "# MEASURE OF DISPERSE"
   ]
  },
  {
   "cell_type": "code",
   "execution_count": 24,
   "id": "c8f0032f-52ec-42ee-a539-d6fb54a6c240",
   "metadata": {},
   "outputs": [
    {
     "name": "stdout",
     "output_type": "stream",
     "text": [
      "nilai range = 512.3292\n",
      "nilai stdev = 49.66553444477411\n",
      "nilai variance = 17316.267565034144\n",
      "nilai quantile1 = 7.9104\n",
      "nilai quantile2 = 14.4542\n",
      "nilai quantile3 = 31.0\n",
      "nilai skewness = 4.7792532923723545\n",
      "nilai kurtorsis = 33.20428925264474\n"
     ]
    }
   ],
   "source": [
    "#contoh measure of disperese dengan numpy dan scipy\n",
    "print(\"nilai range =\", np.max(titanic['fare'])-np.min(titanic['fare']))\n",
    "print(\"nilai stdev =\", np.std(titanic['fare']))\n",
    "print(\"nilai variance =\", np.std(titanic['fare']**2))\n",
    "print(\"nilai quantile1 =\", np.quantile(titanic['fare'], .25))\n",
    "print(\"nilai quantile2 =\", np.percentile(titanic['fare'], 50))\n",
    "print(\"nilai quantile3 =\", np.percentile(titanic['fare'], 75))\n",
    "print(\"nilai skewness =\", stats.skew(titanic['fare']))\n",
    "print(\"nilai kurtorsis =\", stats.kurtosis(titanic['fare']))"
   ]
  },
  {
   "cell_type": "code",
   "execution_count": 26,
   "id": "cb9c8eaf-20e9-49d0-9ac0-985ff9380d2e",
   "metadata": {},
   "outputs": [
    {
     "name": "stdout",
     "output_type": "stream",
     "text": [
      "nilai range = 512.3292\n",
      "nilai std = 49.693428597180905\n",
      "nilai variance = 2469.436845743117\n",
      "nilai quantile1 = 7.9104\n",
      "nilai quantile2 = 14.4542\n",
      "nilai quantil3 = 31.0\n",
      "nilai skewnes = 4.787316519674893\n",
      "nilai kurtosis = 33.39814088089868\n"
     ]
    }
   ],
   "source": [
    "# Contoh measure of disperse dengan pandas\n",
    "print(\"nilai range =\", titanic['fare'].max()-titanic['fare'].min())\n",
    "print(\"nilai std =\", titanic['fare'].std())\n",
    "print(\"nilai variance =\", titanic['fare'].var())\n",
    "print(\"nilai quantile1 =\", titanic['fare'].quantile(.25))\n",
    "print(\"nilai quantile2 =\", titanic['fare'].quantile(.50))\n",
    "print(\"nilai quantil3 =\", titanic['fare'].quantile(.75))\n",
    "print(\"nilai skewnes =\", titanic['fare'].skew())\n",
    "print(\"nilai kurtosis =\", titanic['fare'].kurtosis())\n"
   ]
  },
  {
   "cell_type": "markdown",
   "id": "c9214db5-ef93-4104-98ae-74d8231b0cbc",
   "metadata": {
    "tags": []
   },
   "source": [
    "# SKEWNESS, KURTOSIS\n",
    "\n",
    "> **Skewness** adalah ukuran ketidaksemitrisan dalam distribusi nilai. **Skewness** dapat bernilai positif, negaif dan nol.\n",
    "> - Skewness yang bernilai positif(>0) berarti ekor distribusi berada di sebelah kanan, artinya sebagian besar distribusi berada di nilai rendah(kiri kurva)\n",
    "> - Skewness yang bernilai negatif(<0) berarti ekor distribusi berada di sebelah kiri, artinya sebagian besar distribusi berada di nilai tinggi(kanan kurva)\n",
    "> - skeweness yang bernilai nol=(0) berarti nilai terdistribusi secara simetris, dengan jarak antar ekor sebelah kanan dan kiri sama besar.\n",
    "\n",
    "> Misal, jika nilai skewness = -0.817 adalahh artinya merupakan nilai negatif. akan tetapi tidak jauh dari nilai 0, berarti distribusi data cenderung simetris, atau hampir normal\n",
    "\n",
    "![img](https://biologyforlife.com/uploads/2/2/3/9/22392738/c101b0da6ea1a0dab31f80d9963b0368_orig.png)"
   ]
  },
  {
   "cell_type": "markdown",
   "id": "281442f3-d6a0-4795-b691-df388e55897f",
   "metadata": {},
   "source": [
    "> normal skewness test:\n",
    "\n",
    "> - Jika skewness < -1 atau > 1, maka distribusi adalah **higly skewed**.\n",
    "> - jika skewness diantara -1 dan -0.5 atau antara 0.5 dan 1, makan distribusi adalah **moderately skewed**.\n",
    "> - jika skewness diantara -0.5 dan 0.5 maka distribusinya adalah **approximately symetric**"
   ]
  },
  {
   "cell_type": "code",
   "execution_count": 27,
   "id": "ad7c78ae-4b50-4039-a2dd-c90872ef31ec",
   "metadata": {},
   "outputs": [
    {
     "data": {
      "text/plain": [
       "SkewtestResult(statistic=24.93914454559374, pvalue=2.8006765397877084e-137)"
      ]
     },
     "execution_count": 27,
     "metadata": {},
     "output_type": "execute_result"
    }
   ],
   "source": [
    "# skewness dengan bantuan scipy\n",
    "stats.skewtest(titanic['fare'])"
   ]
  },
  {
   "cell_type": "markdown",
   "id": "daf5daa3-bd5d-4663-8a28-f26351a0aa7c",
   "metadata": {},
   "source": [
    "> **Kurtois** adalah indikator untuk menunjukan deraja keruncingan (tailedness), semakin besar nilai kurtosis maka kurva semakin runcing."
   ]
  },
  {
   "cell_type": "markdown",
   "id": "d6406665-6610-4edc-bf4b-8c4527d4908c",
   "metadata": {},
   "source": [
    "![img](https://cdn.scribbr.com/wp-content/uploads/2022/07/The-difference-between-skewness-and-kurtosis.webp)"
   ]
  },
  {
   "cell_type": "markdown",
   "id": "45bfb72d-cbfc-4851-a046-e99e702f3c80",
   "metadata": {},
   "source": [
    "> Nilai Referensi kurtosis adalah 3. artinya pada normal kurtosis test:\n",
    "> - Jika nilai kurtosis > 3, Maka kurva distribusi disebut leptokurtik,\n",
    "> - Jika < 3 maka disebut paltikurtik.\n",
    "> - JIka nilai kurtosis = 3, maka kurva termasuk distibusi nomral, bisa disebut meskurtik atau mesokurtotik"
   ]
  },
  {
   "cell_type": "code",
   "execution_count": 29,
   "id": "43f5cd6d-1ce7-4762-b252-1bd9d4fd28e3",
   "metadata": {},
   "outputs": [
    {
     "data": {
      "text/plain": [
       "KurtosistestResult(statistic=16.81149427822151, pvalue=2.0103910618217095e-63)"
      ]
     },
     "execution_count": 29,
     "metadata": {},
     "output_type": "execute_result"
    }
   ],
   "source": [
    "stats.kurtosistest(titanic['fare'])"
   ]
  },
  {
   "cell_type": "code",
   "execution_count": 35,
   "id": "2e48c52f-7930-4b83-9e96-f9da7ccb247d",
   "metadata": {},
   "outputs": [
    {
     "data": {
      "image/png": "[encoded data removed]",
      "text/plain": [
       "<Figure size 432x288 with 1 Axes>"
      ]
     },
     "metadata": {
      "needs_background": "light"
     },
     "output_type": "display_data"
    }
   ],
   "source": [
    "# Quantile dan outliers dengan boxplot\n",
    "sns.boxplot(titanic['age'])\n",
    "plt.axvline(titanic['age'].quantile(.25), color='red', ls='--') # quantile 1\n",
    "plt.axvline(titanic['age'].quantile(.50), color='green', ls='--') # quantile 2\n",
    "plt.axvline(titanic['age'].quantile(.75), color='purple', ls='--') # quantile 3\n",
    "plt.show()"
   ]
  },
  {
   "cell_type": "markdown",
   "id": "5b4554fb-0ef1-4151-a65c-739ab34d57a7",
   "metadata": {},
   "source": [
    "> **Quartile** merupakan measure of variation yang akan membagi suatu dataset terurut menjadi 4 bagian yang sama(Q1,Q2,dan Q3)\n",
    "\n",
    "> Interquartile Range (IQR) adalah measure of variation keberagaman / sebaran data) dengan menselisihkan dengan nilai Q3 dan Q1.\n",
    "\n",
    "> Suatu data pada suatu dataset bisa dikategorikan sebagai outlier apabila:\n",
    "\n",
    "> - Lebih kecil dari Q1-(1.5*IQR)\n",
    "> - Lebih besar Q3 + (1.5*IQR))\n",
    "\n"
   ]
  },
  {
   "cell_type": "code",
   "execution_count": 56,
   "id": "8ef02c1e-90bb-47e7-b0c6-1c33250da565",
   "metadata": {},
   "outputs": [
    {
     "data": {
      "image/png": "[encoded data removed]",
      "text/plain": [
       "<Figure size 720x504 with 2 Axes>"
      ]
     },
     "metadata": {
      "needs_background": "light"
     },
     "output_type": "display_data"
    }
   ],
   "source": [
    "fig, (ax1, ax2) = plt.subplots(2, sharex=True, gridspec_kw={'height_ratios' : (.20, .80)}, figsize=(10,7))\n",
    "sns.boxplot(titanic['fare'], ax=ax1, palette='Paired')\n",
    "sns.distplot(titanic['fare'], ax=ax2)\n",
    "plt.axvline(titanic['fare'].quantile(.25), color='red', ls='--') # quantile 1\n",
    "plt.axvline(titanic['fare'].quantile(.5), color='green', ls='--') # quantile 2\n",
    "plt.axvline(titanic['fare'].quantile(.75), color='purple', ls='--')# quantile 3\n",
    "plt.show()"
   ]
  },
  {
   "cell_type": "code",
   "execution_count": 58,
   "id": "277a6534-f7e3-4852-9b66-0e5020528abf",
   "metadata": {},
   "outputs": [
    {
     "name": "stdout",
     "output_type": "stream",
     "text": [
      "Q1 : 7.9104\n",
      "Q2 : 14.4542\n",
      "Q3 : 31.0\n",
      "IQR : 23.0896\n"
     ]
    }
   ],
   "source": [
    "# Contoh Menghitung IQR untuk deteksi outlier\n",
    "q1 = titanic['fare'].quantile(0.25) # Lower\n",
    "q2 = titanic['fare'].quantile(0.50) # Median\n",
    "q3 = titanic['fare'].quantile(0.75) # Upper\n",
    "\n",
    "iqr = q3-q1\n",
    "print('Q1 :', q1)\n",
    "print('Q2 :', q2)\n",
    "print('Q3 :', q3)\n",
    "print('IQR :', iqr)"
   ]
  },
  {
   "cell_type": "code",
   "execution_count": 60,
   "id": "a47747e7-feb0-4714-bc2d-4d12cca695b5",
   "metadata": {},
   "outputs": [
    {
     "name": "stdout",
     "output_type": "stream",
     "text": [
      "Lower Limit: -26.724\n",
      "Upper Limit: -3.6343999999999994\n"
     ]
    }
   ],
   "source": [
    "#mencari outlier limit\n",
    "limit_lower= q1 - 1.5*(iqr)\n",
    "limit_upper= q3 - 1.5*(iqr)\n",
    "print('Lower Limit:', limit_lower)\n",
    "print('Upper Limit:', limit_upper)"
   ]
  },
  {
   "cell_type": "code",
   "execution_count": 64,
   "id": "ce91ece9-2fca-4b6e-bd7b-72c403dbfe27",
   "metadata": {},
   "outputs": [
    {
     "name": "stdout",
     "output_type": "stream",
     "text": [
      "jumlah lower outlier: 0\n",
      "jumlah upper outlier: 891 \n",
      "\n",
      "jumlah total outler: 891\n"
     ]
    }
   ],
   "source": [
    "#menghitung jumlah outlier\n",
    "lower_outlier = titanic[titanic['fare']<limit_lower]['fare'].count()\n",
    "upper_outlier = titanic[titanic['fare']>limit_upper]['fare'].count()\n",
    "\n",
    "print('jumlah lower outlier:', lower_outlier)\n",
    "print('jumlah upper outlier:', upper_outlier,'\\n')\n",
    "print('jumlah total outler:', lower_outlier + upper_outlier)"
   ]
  },
  {
   "cell_type": "markdown",
   "id": "2f25048c-1448-462c-911e-7552f95af5d7",
   "metadata": {},
   "source": [
    ">Standar Score(z-score) merepensentasikan nilai simpangan suatu entri data terhadap mean dari dataset yang diukur berdasarkan standard deviation\n",
    "\n",
    "![img](https://editor.analyticsvidhya.com/uploads/440971.png)"
   ]
  },
  {
   "cell_type": "code",
   "execution_count": 73,
   "id": "4aea638f-780d-44e8-acb6-3c5e2c8bb62a",
   "metadata": {},
   "outputs": [],
   "source": [
    "#mencari outlier dengan z-score\n",
    "z_scores = np.abs(stats.zscore(titanic['fare'].tolist()))\n",
    "\n",
    "#threshold = 3\n",
    "z_outlier = np.where(z_scores > 3)\n",
    "index_outlier = list(z_outlier)[0].tolist()"
   ]
  },
  {
   "cell_type": "code",
   "execution_count": 75,
   "id": "c77305d6-e221-4794-b67b-b5d740d785d7",
   "metadata": {},
   "outputs": [
    {
     "name": "stdout",
     "output_type": "stream",
     "text": [
      "[27, 88, 118, 258, 299, 311, 341, 377, 380, 438, 527, 557, 679, 689, 700, 716, 730, 737, 742, 779] /n\n",
      "jumlah outlier 20\n"
     ]
    }
   ],
   "source": [
    "#cek index outlier\n",
    "print(index_outlier, '/n')\n",
    "print('jumlah outlier', len(index_outlier))"
   ]
  },
  {
   "cell_type": "code",
   "execution_count": 76,
   "id": "714472fe-6208-4604-9d87-981becbe2522",
   "metadata": {},
   "outputs": [
    {
     "name": "stdout",
     "output_type": "stream",
     "text": [
      "27     263.0000\n",
      "88     263.0000\n",
      "118    247.5208\n",
      "258    512.3292\n",
      "299    247.5208\n",
      "311    262.3750\n",
      "341    263.0000\n",
      "377    211.5000\n",
      "380    227.5250\n",
      "438    263.0000\n",
      "527    221.7792\n",
      "557    227.5250\n",
      "679    512.3292\n",
      "689    211.3375\n",
      "700    227.5250\n",
      "716    227.5250\n",
      "730    211.3375\n",
      "737    512.3292\n",
      "742    262.3750\n",
      "779    211.3375\n",
      "Name: fare, dtype: float64\n"
     ]
    }
   ],
   "source": [
    "print(titanic['fare'].loc[index_outlier])"
   ]
  },
  {
   "cell_type": "markdown",
   "id": "dc3b3695-fe48-4b17-b3bb-4986af380aad",
   "metadata": {},
   "source": [
    "# CORRELATION COEFFICIENT\n",
    "> Secara sederhana korelasi berarti hubungan, kata korealsi punya arti berbeda di berbagai bidang seperti statistik dan metode penelitian.\n",
    "\n",
    "> **Pearson correlation** Evaluasi lienar relationship antara dua continius variabels\n",
    "\n",
    "![](https://www.scribbr.de/wp-content/uploads/2021/08/01-correlation-types-1024x415.png)"
   ]
  },
  {
   "cell_type": "markdown",
   "id": "a3a68b45-6135-4c46-be34-4a654ee52eab",
   "metadata": {},
   "source": [
    "> **Spearman Correlation** Evaluasi monotonic realitionship antara dua variable. Spearman correlation berdasar pada ranked values tiap variabel.\n",
    "\n",
    "![img](https://cdn.scribbr.com/wp-content/uploads/2021/08/monotonic-relationships.png)"
   ]
  },
  {
   "cell_type": "markdown",
   "id": "9c5d09bf-b9d2-4a13-9948-e07d4bc4c4ae",
   "metadata": {},
   "source": [
    "> - Nilai correlation coefficient positif, artinya setiap peningkatan nilai positif x, maka terdapat peningkatan pada nilai y.\n",
    "> - Nilai correlation coefficient negatif, artinya setiap peningkatan nilai positif x, maka terdapat penurunan pada nilai y.\n",
    "> - Nilai correlation coefficient 0 , artinya tidak ada relationship antar x dan y."
   ]
  },
  {
   "cell_type": "code",
   "execution_count": 81,
   "id": "9ef1d525-b6e4-4baf-8407-04491ecd5919",
   "metadata": {},
   "outputs": [
    {
     "data": {
      "text/html": [
       "<div>\n",
       "<style scoped>\n",
       "    .dataframe tbody tr th:only-of-type {\n",
       "        vertical-align: middle;\n",
       "    }\n",
       "\n",
       "    .dataframe tbody tr th {\n",
       "        vertical-align: top;\n",
       "    }\n",
       "\n",
       "    .dataframe thead th {\n",
       "        text-align: right;\n",
       "    }\n",
       "</style>\n",
       "<table border=\"1\" class=\"dataframe\">\n",
       "  <thead>\n",
       "    <tr style=\"text-align: right;\">\n",
       "      <th></th>\n",
       "      <th>survived</th>\n",
       "      <th>pclass</th>\n",
       "      <th>age</th>\n",
       "      <th>sibsp</th>\n",
       "      <th>parch</th>\n",
       "      <th>fare</th>\n",
       "      <th>adult_male</th>\n",
       "      <th>alone</th>\n",
       "    </tr>\n",
       "  </thead>\n",
       "  <tbody>\n",
       "    <tr>\n",
       "      <th>survived</th>\n",
       "      <td>1.000000</td>\n",
       "      <td>-0.338481</td>\n",
       "      <td>-0.077221</td>\n",
       "      <td>-0.035322</td>\n",
       "      <td>0.081629</td>\n",
       "      <td>0.257307</td>\n",
       "      <td>-0.557080</td>\n",
       "      <td>-0.203367</td>\n",
       "    </tr>\n",
       "    <tr>\n",
       "      <th>pclass</th>\n",
       "      <td>-0.338481</td>\n",
       "      <td>1.000000</td>\n",
       "      <td>-0.369226</td>\n",
       "      <td>0.083081</td>\n",
       "      <td>0.018443</td>\n",
       "      <td>-0.549500</td>\n",
       "      <td>0.094035</td>\n",
       "      <td>0.135207</td>\n",
       "    </tr>\n",
       "    <tr>\n",
       "      <th>age</th>\n",
       "      <td>-0.077221</td>\n",
       "      <td>-0.369226</td>\n",
       "      <td>1.000000</td>\n",
       "      <td>-0.308247</td>\n",
       "      <td>-0.189119</td>\n",
       "      <td>0.096067</td>\n",
       "      <td>0.280328</td>\n",
       "      <td>0.198270</td>\n",
       "    </tr>\n",
       "    <tr>\n",
       "      <th>sibsp</th>\n",
       "      <td>-0.035322</td>\n",
       "      <td>0.083081</td>\n",
       "      <td>-0.308247</td>\n",
       "      <td>1.000000</td>\n",
       "      <td>0.414838</td>\n",
       "      <td>0.159651</td>\n",
       "      <td>-0.253586</td>\n",
       "      <td>-0.584471</td>\n",
       "    </tr>\n",
       "    <tr>\n",
       "      <th>parch</th>\n",
       "      <td>0.081629</td>\n",
       "      <td>0.018443</td>\n",
       "      <td>-0.189119</td>\n",
       "      <td>0.414838</td>\n",
       "      <td>1.000000</td>\n",
       "      <td>0.216225</td>\n",
       "      <td>-0.349943</td>\n",
       "      <td>-0.583398</td>\n",
       "    </tr>\n",
       "    <tr>\n",
       "      <th>fare</th>\n",
       "      <td>0.257307</td>\n",
       "      <td>-0.549500</td>\n",
       "      <td>0.096067</td>\n",
       "      <td>0.159651</td>\n",
       "      <td>0.216225</td>\n",
       "      <td>1.000000</td>\n",
       "      <td>-0.182024</td>\n",
       "      <td>-0.271832</td>\n",
       "    </tr>\n",
       "    <tr>\n",
       "      <th>adult_male</th>\n",
       "      <td>-0.557080</td>\n",
       "      <td>0.094035</td>\n",
       "      <td>0.280328</td>\n",
       "      <td>-0.253586</td>\n",
       "      <td>-0.349943</td>\n",
       "      <td>-0.182024</td>\n",
       "      <td>1.000000</td>\n",
       "      <td>0.404744</td>\n",
       "    </tr>\n",
       "    <tr>\n",
       "      <th>alone</th>\n",
       "      <td>-0.203367</td>\n",
       "      <td>0.135207</td>\n",
       "      <td>0.198270</td>\n",
       "      <td>-0.584471</td>\n",
       "      <td>-0.583398</td>\n",
       "      <td>-0.271832</td>\n",
       "      <td>0.404744</td>\n",
       "      <td>1.000000</td>\n",
       "    </tr>\n",
       "  </tbody>\n",
       "</table>\n",
       "</div>"
      ],
      "text/plain": [
       "            survived    pclass       age     sibsp     parch      fare  \\\n",
       "survived    1.000000 -0.338481 -0.077221 -0.035322  0.081629  0.257307   \n",
       "pclass     -0.338481  1.000000 -0.369226  0.083081  0.018443 -0.549500   \n",
       "age        -0.077221 -0.369226  1.000000 -0.308247 -0.189119  0.096067   \n",
       "sibsp      -0.035322  0.083081 -0.308247  1.000000  0.414838  0.159651   \n",
       "parch       0.081629  0.018443 -0.189119  0.414838  1.000000  0.216225   \n",
       "fare        0.257307 -0.549500  0.096067  0.159651  0.216225  1.000000   \n",
       "adult_male -0.557080  0.094035  0.280328 -0.253586 -0.349943 -0.182024   \n",
       "alone      -0.203367  0.135207  0.198270 -0.584471 -0.583398 -0.271832   \n",
       "\n",
       "            adult_male     alone  \n",
       "survived     -0.557080 -0.203367  \n",
       "pclass        0.094035  0.135207  \n",
       "age           0.280328  0.198270  \n",
       "sibsp        -0.253586 -0.584471  \n",
       "parch        -0.349943 -0.583398  \n",
       "fare         -0.182024 -0.271832  \n",
       "adult_male    1.000000  0.404744  \n",
       "alone         0.404744  1.000000  "
      ]
     },
     "execution_count": 81,
     "metadata": {},
     "output_type": "execute_result"
    }
   ],
   "source": [
    "# cek korelasi dengan pandas\n",
    "titanic.corr() #jika ingin spearman, tulis pada parameter, defaultnya adalah pearson"
   ]
  },
  {
   "cell_type": "code",
   "execution_count": 80,
   "id": "e0121c18-4313-4edc-91d6-7e4985e5f3d2",
   "metadata": {},
   "outputs": [
    {
     "data": {
      "image/png": "[encoded data removed]",
      "text/plain": [
       "<Figure size 720x360 with 2 Axes>"
      ]
     },
     "metadata": {
      "needs_background": "light"
     },
     "output_type": "display_data"
    }
   ],
   "source": [
    "plt.figure(figsize=(10,5))\n",
    "sns.heatmap(titanic.corr(), annot=True)\n",
    "plt.show()"
   ]
  },
  {
   "cell_type": "markdown",
   "id": "5247f8d8-112b-4b10-a712-857231634dcd",
   "metadata": {},
   "source": [
    "> Terdapat ungkapan **Correlation does not imply causation** artinya hanya karena dua hal berkorelasi, tidak berarti bahwa hal yang satu menyebabkan hal yang lain. korelasi antara dua hal dapat disebabkan olelh faktor ketiga yang mempengaruhi keduanya, Ungkapan juga mengacu pada ketidakmampuan kita secara sah menyimpulkan hubungan sebab akibat antara dua hal.peristwia atau variabel semata-mata berdasarkan asosiasi atau korelasi yang diamati.\n",
    "\n",
    "> Contohnya misal pada cuaca panans menyebabkan banyak orang menderita sunburnm hal ini kemungkinan menunjukan ada korealasi antara keduany. dan apabila kita balikan kondisinya semakin banyak orang menderita sunburn, maka bisa jadi menandakan cuaca sedang panas.\n",
    "\n",
    "> Tetapi pada kondisi panas yang sama, rupanya terjadi lebih banyak penjualan es krim, dan hal ini kemungkinan ada korelasi antara keduanya, namun tentu kita tidak dapat kembali mengatakan bahwa penjualan es krim ini lah yang menyebabkan cuaca panas. hal ini lah yang dimaksud'correlation does not imply causation' tadi."
   ]
  },
  {
   "cell_type": "code",
   "execution_count": null,
   "id": "7eef8f55-80bc-4077-a1ba-69df4aa03b62",
   "metadata": {},
   "outputs": [],
   "source": []
  }
 ],
 "metadata": {
  "kernelspec": {
   "display_name": "Python 3 (ipykernel)",
   "language": "python",
   "name": "python3"
  },
  "language_info": {
   "codemirror_mode": {
    "name": "ipython",
    "version": 3
   },
   "file_extension": ".py",
   "mimetype": "text/x-python",
   "name": "python",
   "nbconvert_exporter": "python",
   "pygments_lexer": "ipython3",
   "version": "3.9.12"
  }
 },
 "nbformat": 4,
 "nbformat_minor": 5
}
