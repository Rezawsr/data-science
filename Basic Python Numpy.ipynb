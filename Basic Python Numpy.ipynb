{
 "cells": [
  {
   "cell_type": "markdown",
   "id": "8d9cd5c8-31ce-49f4-8e09-6e9b42b69766",
   "metadata": {},
   "source": [
    "# BASIC PYTHON 5"
   ]
  },
  {
   "cell_type": "markdown",
   "id": "7624ecd9-7a80-448d-8a3c-f5f3ce82d6a0",
   "metadata": {
    "tags": []
   },
   "source": [
    "## NumPy\n",
    "\n",
    "> `Numpy` (**Numerical Python**) adalah library yang fokus pada scientific computing. NumPy memiliki kemampuan dalam membuat n-dimensional array mirip seperti array pada Python."
   ]
  },
  {
   "cell_type": "markdown",
   "id": "25c9495d-486c-472f-8427-49bcda641727",
   "metadata": {
    "jp-MarkdownHeadingCollapsed": true,
    "tags": []
   },
   "source": [
    "### Array\n",
    "\n",
    "> Array numpy secara umum merupakan kumpulan tipe data homogen yang berarti berisi objek (tipe data) satu jenis."
   ]
  },
  {
   "cell_type": "markdown",
   "id": "edeb4bfa-cbb7-4dd8-8341-d2671581608f",
   "metadata": {
    "tags": []
   },
   "source": [
    "![img](http://solutionhacker.com/wp-content/uploads/2017/03/python-array.jpg)"
   ]
  },
  {
   "cell_type": "markdown",
   "id": "c486cd34-bfa0-4c26-9506-c5eb1f11bf1b",
   "metadata": {},
   "source": [
    "![img](https://miro.medium.com/max/1288/1*SGqhI_WpSaEr17wo8ycUhg.png\n",
    ")"
   ]
  },
  {
   "cell_type": "markdown",
   "id": "c748fcdd-b58b-4dcf-a582-6eba1cf75ea6",
   "metadata": {
    "tags": []
   },
   "source": [
    "### INSTALL & IMPORT NUMPY\n",
    "\n",
    "> Install: `conda install`"
   ]
  },
  {
   "cell_type": "markdown",
   "id": "7964a239-cf5e-461b-90fb-a8f6ea0a59e3",
   "metadata": {
    "jp-MarkdownHeadingCollapsed": true,
    "tags": []
   },
   "source": [
    "#### 1. BASIC OPERATION"
   ]
  },
  {
   "cell_type": "code",
   "execution_count": 2,
   "id": "b9ca1633-35e6-47c5-b9fc-af96d9895c43",
   "metadata": {},
   "outputs": [],
   "source": [
    "# contoh import library numpy\n",
    "import numpy as np"
   ]
  },
  {
   "cell_type": "code",
   "execution_count": 5,
   "id": "44f34d37-9542-4203-b3f1-d1b5198ef2a7",
   "metadata": {},
   "outputs": [
    {
     "name": "stdout",
     "output_type": "stream",
     "text": [
      "[1, 2, 3, 4]\n"
     ]
    }
   ],
   "source": [
    "# contoh dengan list\n",
    "list1 = [1, 2, 3, 4]\n",
    "print(list1)"
   ]
  },
  {
   "cell_type": "code",
   "execution_count": 6,
   "id": "b40b2f5f-6156-4ee0-befc-9f04968a51f7",
   "metadata": {},
   "outputs": [
    {
     "data": {
      "text/plain": [
       "array([1, 2, 3, 4])"
      ]
     },
     "execution_count": 6,
     "metadata": {},
     "output_type": "execute_result"
    }
   ],
   "source": [
    "# contoh list ke array\n",
    "np.array(list1)"
   ]
  },
  {
   "cell_type": "code",
   "execution_count": 12,
   "id": "c8e34e00-7117-44b8-97d3-fa45e411e4ac",
   "metadata": {},
   "outputs": [],
   "source": [
    "# buat array\n",
    "list2 = [[5, 6, 7, 8], [9, 10, 11, 12]]\n",
    "arr2 = np.array(range(1, 7))  # dari tuple\n",
    "arr3 = np.array(list2)  # array 2D (matrix)"
   ]
  },
  {
   "cell_type": "code",
   "execution_count": 13,
   "id": "cae6bbec-a516-4e98-9697-3225d5ef66ca",
   "metadata": {},
   "outputs": [
    {
     "data": {
      "text/plain": [
       "[[5, 6, 7, 8], [9, 10, 11, 12]]"
      ]
     },
     "execution_count": 13,
     "metadata": {},
     "output_type": "execute_result"
    }
   ],
   "source": [
    "list2"
   ]
  },
  {
   "cell_type": "code",
   "execution_count": 14,
   "id": "d2113105-aa04-4f55-9d28-357ece7c933c",
   "metadata": {},
   "outputs": [
    {
     "name": "stdout",
     "output_type": "stream",
     "text": [
      "<class 'list'>\n",
      "<class 'numpy.ndarray'>\n"
     ]
    }
   ],
   "source": [
    "# cek tipe array\n",
    "print(type(list1))\n",
    "print(type(arr3))"
   ]
  },
  {
   "cell_type": "code",
   "execution_count": 15,
   "id": "9f1ebc9b-9da3-408a-af7f-ae9ea353bb36",
   "metadata": {},
   "outputs": [
    {
     "name": "stdout",
     "output_type": "stream",
     "text": [
      "dimensi array 2 =  1\n",
      "dimensi array 3 =  2\n"
     ]
    }
   ],
   "source": [
    "# cek dimensi array\n",
    "print(\"dimensi array 2 = \", arr2.ndim)  # vector\n",
    "print(\"dimensi array 3 = \", arr3.ndim)  # matrix"
   ]
  },
  {
   "cell_type": "code",
   "execution_count": 16,
   "id": "85bdad1f-c4c9-44ff-b5cb-d2a5d2cb252f",
   "metadata": {},
   "outputs": [
    {
     "name": "stdout",
     "output_type": "stream",
     "text": [
      "(6,)\n",
      "(2, 4)\n"
     ]
    }
   ],
   "source": [
    "# cek shape array\n",
    "print(arr2.shape)\n",
    "print(arr3.shape)"
   ]
  },
  {
   "cell_type": "code",
   "execution_count": 18,
   "id": "5ab3abbb-c104-44c5-ae43-04d236e423a4",
   "metadata": {},
   "outputs": [
    {
     "data": {
      "text/plain": [
       "9"
      ]
     },
     "execution_count": 18,
     "metadata": {},
     "output_type": "execute_result"
    }
   ],
   "source": [
    "list2[1][0]"
   ]
  },
  {
   "cell_type": "code",
   "execution_count": 19,
   "id": "fa31623d-3bea-451c-b758-1ad2a444223c",
   "metadata": {},
   "outputs": [
    {
     "name": "stdout",
     "output_type": "stream",
     "text": [
      "6\n",
      "8\n"
     ]
    }
   ],
   "source": [
    "# cek size array\n",
    "print(arr2.size)\n",
    "print(arr3.size)"
   ]
  },
  {
   "cell_type": "markdown",
   "id": "b976a43f-0500-4a20-b76c-1903786de884",
   "metadata": {},
   "source": [
    "> Array tidak harus dalam bentuk nilai int atau float, tetapi bisa boolan, string, dll"
   ]
  },
  {
   "cell_type": "code",
   "execution_count": 20,
   "id": "f07e3d00-4873-4c08-aab0-0a83e19794a8",
   "metadata": {},
   "outputs": [],
   "source": [
    "# contoh array dengan boolean\n",
    "b = np.array([[True, False], [True, False]])"
   ]
  },
  {
   "cell_type": "code",
   "execution_count": 22,
   "id": "65029d7c-6f01-4c9b-97b4-db3b3d1192fc",
   "metadata": {},
   "outputs": [
    {
     "name": "stdout",
     "output_type": "stream",
     "text": [
      "[[ True False]\n",
      " [ True False]]\n",
      "<class 'numpy.ndarray'>\n",
      "4\n",
      "(2, 2)\n"
     ]
    }
   ],
   "source": [
    "# print array boolean\n",
    "print(b)\n",
    "print(type(b))\n",
    "print(b.size)\n",
    "print(b.shape)"
   ]
  },
  {
   "cell_type": "code",
   "execution_count": 23,
   "id": "b83a926b-33d7-4b59-b86a-ffa4260bf715",
   "metadata": {},
   "outputs": [],
   "source": [
    "# rubah list ke matrix\n",
    "list2 = [[1, 2, 3], [4, 5, 6], [7, 8, 9]]\n",
    "mat1 = np.array(list2)"
   ]
  },
  {
   "cell_type": "code",
   "execution_count": 24,
   "id": "26d2d6f4-7a18-48ce-adc4-cb0e4c4aa6e4",
   "metadata": {},
   "outputs": [
    {
     "name": "stdout",
     "output_type": "stream",
     "text": [
      "[[1 2 3]\n",
      " [4 5 6]\n",
      " [7 8 9]]\n"
     ]
    }
   ],
   "source": [
    "# print matrix\n",
    "print(mat1)"
   ]
  },
  {
   "cell_type": "code",
   "execution_count": 25,
   "id": "d670af5c-b222-4214-8caa-7221db8a4e2b",
   "metadata": {},
   "outputs": [
    {
     "name": "stdout",
     "output_type": "stream",
     "text": [
      "[1 2 3] [4 5 6] [7 8 9]\n"
     ]
    }
   ],
   "source": [
    "# indexin matrix\n",
    "print(mat1[0], mat1[1], mat1[2])"
   ]
  },
  {
   "cell_type": "code",
   "execution_count": 27,
   "id": "9a441c66-b302-46eb-8eeb-cf45fd459c0b",
   "metadata": {},
   "outputs": [
    {
     "name": "stdout",
     "output_type": "stream",
     "text": [
      "[[1 2 3]\n",
      " [5 5 6]\n",
      " [7 8 9]]\n"
     ]
    }
   ],
   "source": [
    "# ganti element / nilai\n",
    "mat1[1][0] = 5\n",
    "print(mat1)"
   ]
  },
  {
   "cell_type": "markdown",
   "id": "ad282f86-e7a3-4667-b843-1258ad0d45d1",
   "metadata": {},
   "source": [
    "> Kita dapat melihat tipe data pada array dengan `dtype`, dokumentasi:\n",
    ">   1. https://numpy.org/doc/stable/user/basics.types.html\n",
    ">   2. https://numpy.org/doc/stable/reference/arrays.dtypes.html"
   ]
  },
  {
   "cell_type": "code",
   "execution_count": 29,
   "id": "99519a4e-200d-4831-89c3-3f868f5bcedd",
   "metadata": {},
   "outputs": [
    {
     "name": "stdout",
     "output_type": "stream",
     "text": [
      "[1 2 3]\n",
      "int64\n"
     ]
    }
   ],
   "source": [
    "# buat array dengan tipe data tertentu\n",
    "arr4 = np.array([1, 2, 3], dtype=\"int64\")  # tipe data int32\n",
    "print(arr4)\n",
    "print(arr4.dtype)"
   ]
  },
  {
   "cell_type": "code",
   "execution_count": 30,
   "id": "b85304a6-9ba8-4f67-b2e3-212a1383f334",
   "metadata": {},
   "outputs": [
    {
     "name": "stdout",
     "output_type": "stream",
     "text": [
      "[[9. 8. 7.]\n",
      " [6. 5. 4.]]\n",
      "float64\n"
     ]
    }
   ],
   "source": [
    "# contoh buat array dengan tipe data float\n",
    "arr5 = np.array([[9.0, 8.0, 7.0], [6.0, 5.0, 4.0]])\n",
    "print(arr5)\n",
    "print(arr5.dtype)"
   ]
  },
  {
   "cell_type": "code",
   "execution_count": 31,
   "id": "53b17eaa-25df-480b-86c9-892f0d3fd64e",
   "metadata": {},
   "outputs": [
    {
     "name": "stdout",
     "output_type": "stream",
     "text": [
      "[['halo' 'halo']\n",
      " ['halo2' 'halo2']]\n",
      "<U5\n"
     ]
    }
   ],
   "source": [
    "# contoh buat array dengan tipe data string\n",
    "arr6 = np.array([[\"halo\", \"halo\"], [\"halo2\", \"halo2\"]])\n",
    "print(arr6)\n",
    "print(arr6.dtype)"
   ]
  },
  {
   "cell_type": "code",
   "execution_count": 32,
   "id": "a4a02c34-4358-4183-a046-16abdeac440f",
   "metadata": {},
   "outputs": [
    {
     "name": "stdout",
     "output_type": "stream",
     "text": [
      "[['1' '1']\n",
      " ['2.66' 'halo2']]\n",
      "<U32\n"
     ]
    }
   ],
   "source": [
    "# contoh buat aray dengna data berbeda\n",
    "arr7 = np.array([[1, 1], [2.66, \"halo2\"]])\n",
    "print(arr7)\n",
    "print(arr7.dtype)"
   ]
  },
  {
   "cell_type": "markdown",
   "id": "e48b5432-c656-48f2-8b31-37e94ab4396d",
   "metadata": {
    "jp-MarkdownHeadingCollapsed": true,
    "tags": []
   },
   "source": [
    "#### 2. RANDOM"
   ]
  },
  {
   "cell_type": "markdown",
   "id": "d4807d1a-d65a-496d-9d11-bbe3650c6ed6",
   "metadata": {},
   "source": [
    "> NumPy juga mendukung "
   ]
  },
  {
   "cell_type": "code",
   "execution_count": 3,
   "id": "d8e7e827-10a8-4f76-a396-f336f80df2d1",
   "metadata": {},
   "outputs": [
    {
     "data": {
      "text/plain": [
       "array([0.32774644, 0.4487843 , 0.07379091, 0.21242469])"
      ]
     },
     "execution_count": 3,
     "metadata": {},
     "output_type": "execute_result"
    }
   ],
   "source": [
    "# contoh fungsi rand\n",
    "np.random.rand(4)"
   ]
  },
  {
   "cell_type": "code",
   "execution_count": 4,
   "id": "7a9a6626-ce6f-464c-bae8-72825879c1fa",
   "metadata": {},
   "outputs": [
    {
     "data": {
      "text/plain": [
       "array([[0.53779598, 0.45801837, 0.56320682, 0.91940205, 0.28950917],\n",
       "       [0.09109969, 0.27422103, 0.84892889, 0.37458519, 0.72825795],\n",
       "       [0.76954723, 0.15594124, 0.95617114, 0.50717865, 0.89997556]])"
      ]
     },
     "execution_count": 4,
     "metadata": {},
     "output_type": "execute_result"
    }
   ],
   "source": [
    "# contoh fungsi rand\n",
    "np.random.rand(3, 5)"
   ]
  },
  {
   "cell_type": "code",
   "execution_count": 5,
   "id": "8cb197c1-1297-45b2-9771-a1c66bdbad39",
   "metadata": {},
   "outputs": [
    {
     "data": {
      "text/plain": [
       "array([[0.16778336, 0.12274304],\n",
       "       [0.33954814, 0.89756641],\n",
       "       [0.95698329, 0.67167217],\n",
       "       [0.42511923, 0.39752469]])"
      ]
     },
     "execution_count": 5,
     "metadata": {},
     "output_type": "execute_result"
    }
   ],
   "source": [
    "# contoh fungsi rand\n",
    "np.random.rand(4, 2)"
   ]
  },
  {
   "cell_type": "code",
   "execution_count": 7,
   "id": "5a1dd04b-0e81-4bfd-a908-ae7b5e301b5b",
   "metadata": {},
   "outputs": [
    {
     "data": {
      "text/plain": [
       "array([[[0.10043494, 0.90004802, 0.04383774, 0.92026059],\n",
       "        [0.54715466, 0.57603691, 0.1278922 , 0.69102345],\n",
       "        [0.91716762, 0.74343238, 0.41628697, 0.94235092]],\n",
       "\n",
       "       [[0.3478506 , 0.56697911, 0.37556119, 0.95604204],\n",
       "        [0.8543598 , 0.87811316, 0.50336108, 0.93912411],\n",
       "        [0.49237179, 0.7771804 , 0.26408792, 0.7954567 ]]])"
      ]
     },
     "execution_count": 7,
     "metadata": {},
     "output_type": "execute_result"
    }
   ],
   "source": [
    "# contoh fungsi rand\n",
    "np.random.rand(2, 3, 4)  # jumlah index, max, elemen"
   ]
  },
  {
   "cell_type": "code",
   "execution_count": 8,
   "id": "c6b3f004-e022-462b-aad0-0b836d4da484",
   "metadata": {},
   "outputs": [
    {
     "data": {
      "text/plain": [
       "array([[ 0, -1, -2,  0],\n",
       "       [-2,  0, -1,  0],\n",
       "       [ 0,  0,  0,  0]])"
      ]
     },
     "execution_count": 10,
     "metadata": {},
     "output_type": "execute_result"
    }
   ],
   "source": [
    "# contoh fungsi randint\n",
    "np.random.randint(-3, 4, size=(3, 4))  # nilai minimal, nilai maximal-1, ukuran matrix"
   ]
  },
  {
   "cell_type": "code",
   "execution_count": 11,
   "id": "150345d4-8a0d-4585-8fb8-62edc1f1fefc",
   "metadata": {},
   "outputs": [],
   "source": [
    "# contoh fungsi randint\n",
    "x = np.random.randint(0, 10, 10)\n",
    "y = np.random.randint(0, 10, 10)"
   ]
  },
  {
   "cell_type": "code",
   "execution_count": 12,
   "id": "45106772-a47a-4bd4-9ed1-4325873dc509",
   "metadata": {},
   "outputs": [
    {
     "data": {
      "text/plain": [
       "(array([2, 9, 1, 3, 4, 8, 5, 2, 4, 2]), array([2, 0, 9, 2, 7, 9, 0, 4, 4, 1]))"
      ]
     },
     "execution_count": 12,
     "metadata": {},
     "output_type": "execute_result"
    }
   ],
   "source": [
    "x, y"
   ]
  },
  {
   "cell_type": "code",
   "execution_count": 13,
   "id": "0474fcef-1853-44f9-b2b3-f66925802d86",
   "metadata": {},
   "outputs": [
    {
     "data": {
      "text/plain": [
       "array([0.25453916, 0.1760349 , 0.357388  , 1.36093692])"
      ]
     },
     "execution_count": 13,
     "metadata": {},
     "output_type": "execute_result"
    }
   ],
   "source": [
    "# contoh fungsi randn\n",
    "np.random.randn(4)"
   ]
  },
  {
   "cell_type": "code",
   "execution_count": 14,
   "id": "8ae8284b-bda8-40d8-ac4e-7169703a6832",
   "metadata": {},
   "outputs": [
    {
     "data": {
      "text/plain": [
       "array([[-1.55220804,  0.21564581,  0.31171296],\n",
       "       [ 1.4242104 ,  0.15690396,  0.14796179],\n",
       "       [-0.71934454, -0.63035137, -0.81478389],\n",
       "       [ 0.05625845, -0.33354663,  0.18858377]])"
      ]
     },
     "execution_count": 14,
     "metadata": {},
     "output_type": "execute_result"
    }
   ],
   "source": [
    "# contoh fungsi randn\n",
    "np.random.randn(4, 3)"
   ]
  },
  {
   "cell_type": "code",
   "execution_count": 19,
   "id": "05b0063e-1f25-4e83-b34a-adf6445a234c",
   "metadata": {
    "tags": []
   },
   "outputs": [],
   "source": [
    "# contoh fungsi randn\n",
    "np.random.seed(0)\n",
    "x = np.random.randn(2, 2, 4)"
   ]
  },
  {
   "cell_type": "code",
   "execution_count": 20,
   "id": "aee3dba3-4604-4524-8993-253cdda7082f",
   "metadata": {},
   "outputs": [
    {
     "data": {
      "text/plain": [
       "array([[[ 1.76405235,  0.40015721,  0.97873798,  2.2408932 ],\n",
       "        [ 1.86755799, -0.97727788,  0.95008842, -0.15135721]],\n",
       "\n",
       "       [[-0.10321885,  0.4105985 ,  0.14404357,  1.45427351],\n",
       "        [ 0.76103773,  0.12167502,  0.44386323,  0.33367433]]])"
      ]
     },
     "execution_count": 20,
     "metadata": {},
     "output_type": "execute_result"
    }
   ],
   "source": [
    "# nilai fungsi randn\n",
    "x"
   ]
  },
  {
   "cell_type": "code",
   "execution_count": 21,
   "id": "89e7b031-6be2-49eb-8b2f-7a71e5cf36a6",
   "metadata": {},
   "outputs": [
    {
     "data": {
      "text/plain": [
       "array([[[ 1.76405235, -0.10321885],\n",
       "        [ 1.86755799,  0.76103773]],\n",
       "\n",
       "       [[ 0.40015721,  0.4105985 ],\n",
       "        [-0.97727788,  0.12167502]],\n",
       "\n",
       "       [[ 0.97873798,  0.14404357],\n",
       "        [ 0.95008842,  0.44386323]],\n",
       "\n",
       "       [[ 2.2408932 ,  1.45427351],\n",
       "        [-0.15135721,  0.33367433]]])"
      ]
     },
     "execution_count": 21,
     "metadata": {},
     "output_type": "execute_result"
    }
   ],
   "source": [
    "# contoh transpose\n",
    "x.T"
   ]
  },
  {
   "cell_type": "markdown",
   "id": "fb50719c-dc90-425a-b70d-36eeebb8b380",
   "metadata": {},
   "source": [
    ">  Kira bisa mengetahui nilai min, max, dan argument (mirip index) dari suatu array, dengan `min`, `max`, `agrmin`, `argmax`."
   ]
  },
  {
   "cell_type": "code",
   "execution_count": 23,
   "id": "093e843e-e244-4dad-8137-8bd75adc997b",
   "metadata": {},
   "outputs": [
    {
     "data": {
      "text/plain": [
       "array([6, 1, 4, 4, 8, 4, 6, 3])"
      ]
     },
     "execution_count": 23,
     "metadata": {},
     "output_type": "execute_result"
    }
   ],
   "source": [
    "# contoh masukkan input ke variabel\n",
    "np.random.seed(0)\n",
    "rand1 = np.random.randint(1, 10, 8)\n",
    "rand1"
   ]
  },
  {
   "cell_type": "code",
   "execution_count": 24,
   "id": "aec9865f-c8cb-48d6-acd7-2fbe510a9e67",
   "metadata": {},
   "outputs": [
    {
     "name": "stdout",
     "output_type": "stream",
     "text": [
      "Nilai maksimum: 8\n",
      "Nilai minimum: 1\n",
      "Nilai arg max: 4\n",
      "Nilai arg min: 1\n"
     ]
    }
   ],
   "source": [
    "# print nilai max, min, argmax, argmin\n",
    "print(\"Nilai maksimum:\", rand1.max())\n",
    "print(\"Nilai minimum:\", rand1.min())\n",
    "print(\"Nilai arg max:\", rand1.argmax())\n",
    "print(\"Nilai arg min:\", rand1.argmin())"
   ]
  },
  {
   "cell_type": "code",
   "execution_count": 25,
   "id": "34a37f8c-f13b-46f1-93f3-28a775de97d4",
   "metadata": {},
   "outputs": [
    {
     "name": "stdout",
     "output_type": "stream",
     "text": [
      "[3.47504421 2.9243214  2.94839057 3.20529925 3.07202179 3.72713675\n",
      " 3.38051886 3.06083751]\n"
     ]
    }
   ],
   "source": [
    "# menggunakan random.normal untuk distribusi normal / gaussian\n",
    "norm_array = np.random.normal(3, 0.5, 8)  # mean, std, size\n",
    "print(norm_array)"
   ]
  },
  {
   "cell_type": "markdown",
   "id": "7729e97a-82f6-4891-884c-7f1f15b5a0c4",
   "metadata": {},
   "source": [
    "> NumPy memiliki banyak fungsi yang berkaitan dengan array dan pembentikannya. Beberapa diantaranya adalah `zeros` (membuat array dengan nilai 0), `ones` (membuat array dengan nilai 1), `full` (membuat array dengan nilai yang diisi nilai tertentu)."
   ]
  },
  {
   "cell_type": "code",
   "execution_count": 26,
   "id": "7d121e4a-d148-48f7-80b4-9f95ccbf4b00",
   "metadata": {},
   "outputs": [
    {
     "data": {
      "text/plain": [
       "array([0., 0., 0., 0., 0.])"
      ]
     },
     "execution_count": 26,
     "metadata": {},
     "output_type": "execute_result"
    }
   ],
   "source": [
    "# contoh zeros\n",
    "np.zeros(5)"
   ]
  },
  {
   "cell_type": "code",
   "execution_count": 29,
   "id": "f060746e-935c-4c79-9dcd-d52e0aade9c0",
   "metadata": {},
   "outputs": [
    {
     "data": {
      "text/plain": [
       "array([[0., 0., 0.],\n",
       "       [0., 0., 0.]])"
      ]
     },
     "execution_count": 29,
     "metadata": {},
     "output_type": "execute_result"
    }
   ],
   "source": [
    "# matrix 0\n",
    "np.zeros((2, 3))"
   ]
  },
  {
   "cell_type": "code",
   "execution_count": 30,
   "id": "364c8406-9834-443e-9503-f38b94cb082b",
   "metadata": {},
   "outputs": [
    {
     "data": {
      "text/plain": [
       "array([5.])"
      ]
     },
     "execution_count": 30,
     "metadata": {},
     "output_type": "execute_result"
    }
   ],
   "source": [
    "# contoh ones\n",
    "np.ones(1)*5"
   ]
  },
  {
   "cell_type": "code",
   "execution_count": 31,
   "id": "c768f83f-90db-4999-8ca1-8b9b832747ba",
   "metadata": {},
   "outputs": [
    {
     "data": {
      "text/plain": [
       "array([[1., 1., 1.],\n",
       "       [1., 1., 1.]])"
      ]
     },
     "execution_count": 31,
     "metadata": {},
     "output_type": "execute_result"
    }
   ],
   "source": [
    "# contoh ones\n",
    "np.ones((2, 3))"
   ]
  },
  {
   "cell_type": "code",
   "execution_count": 34,
   "id": "2e18b85a-824b-43cd-9c36-a77d2a0daac3",
   "metadata": {},
   "outputs": [
    {
     "data": {
      "text/plain": [
       "matrix([[1., 1., 1., 1., 1.],\n",
       "        [1., 1., 1., 1., 1.],\n",
       "        [1., 1., 1., 1., 1.],\n",
       "        [1., 1., 1., 1., 1.]])"
      ]
     },
     "execution_count": 34,
     "metadata": {},
     "output_type": "execute_result"
    }
   ],
   "source": [
    "# contoh membuat matrix\n",
    "np.matrix(np.ones((4, 5)))"
   ]
  },
  {
   "cell_type": "code",
   "execution_count": 35,
   "id": "26558672-c8ab-4bbe-ab76-cb9c8b306703",
   "metadata": {},
   "outputs": [
    {
     "data": {
      "text/plain": [
       "array([[[1, 1],\n",
       "        [1, 1]],\n",
       "\n",
       "       [[1, 1],\n",
       "        [1, 1]],\n",
       "\n",
       "       [[1, 1],\n",
       "        [1, 1]],\n",
       "\n",
       "       [[1, 1],\n",
       "        [1, 1]]])"
      ]
     },
     "execution_count": 35,
     "metadata": {},
     "output_type": "execute_result"
    }
   ],
   "source": [
    "# matrix berisi all 1\n",
    "np.ones((4, 2, 2), dtype='int32')"
   ]
  },
  {
   "cell_type": "code",
   "execution_count": 36,
   "id": "a31af7d4-5237-41ef-9c6b-98a74d8259c2",
   "metadata": {},
   "outputs": [
    {
     "data": {
      "text/plain": [
       "array([[10, 10, 10],\n",
       "       [10, 10, 10]])"
      ]
     },
     "execution_count": 36,
     "metadata": {},
     "output_type": "execute_result"
    }
   ],
   "source": [
    "# contoh full\n",
    "np.full((2, 3), 10)"
   ]
  },
  {
   "cell_type": "code",
   "execution_count": 37,
   "id": "266634d5-2092-4658-a1b5-22105cf3309d",
   "metadata": {},
   "outputs": [
    {
     "data": {
      "text/plain": [
       "array([[[5., 5., 5., 5.],\n",
       "        [5., 5., 5., 5.]],\n",
       "\n",
       "       [[5., 5., 5., 5.],\n",
       "        [5., 5., 5., 5.]]])"
      ]
     },
     "execution_count": 37,
     "metadata": {},
     "output_type": "execute_result"
    }
   ],
   "source": [
    "# contoh full like\n",
    "np.full_like(x, 5)"
   ]
  },
  {
   "cell_type": "code",
   "execution_count": 38,
   "id": "23626a9f-8eb2-41d9-9e73-9df388ac9e29",
   "metadata": {},
   "outputs": [
    {
     "data": {
      "text/plain": [
       "array([[[2., 2.],\n",
       "        [2., 2.]],\n",
       "\n",
       "       [[2., 2.],\n",
       "        [2., 2.]],\n",
       "\n",
       "       [[2., 2.],\n",
       "        [2., 2.]],\n",
       "\n",
       "       [[2., 2.],\n",
       "        [2., 2.]]])"
      ]
     },
     "execution_count": 38,
     "metadata": {},
     "output_type": "execute_result"
    }
   ],
   "source": [
    "# contoh full like\n",
    "np.full_like(x.T, 2)"
   ]
  },
  {
   "cell_type": "code",
   "execution_count": 39,
   "id": "6e60bfa2-daab-4cf1-928c-7bedae85a431",
   "metadata": {},
   "outputs": [
    {
     "data": {
      "text/plain": [
       "array([[1., 0., 0.],\n",
       "       [0., 1., 0.],\n",
       "       [0., 0., 1.]])"
      ]
     },
     "execution_count": 39,
     "metadata": {},
     "output_type": "execute_result"
    }
   ],
   "source": [
    "# identity matrix\n",
    "np.identity(3)"
   ]
  },
  {
   "cell_type": "code",
   "execution_count": 40,
   "id": "cfe05d4f-698d-4eff-a15b-992184c22050",
   "metadata": {},
   "outputs": [],
   "source": [
    "# contoh repeat untuk menduplikasi array sebanyak n kali\n",
    "arr8 = np.array([[1, 2, 3, 4, 5]])"
   ]
  },
  {
   "cell_type": "code",
   "execution_count": 47,
   "id": "4ec1ea42-68e5-4770-a025-2aee9ee54fb5",
   "metadata": {},
   "outputs": [],
   "source": [
    "rep1 = np.repeat(arr8, 3, axis=0)"
   ]
  },
  {
   "cell_type": "code",
   "execution_count": 42,
   "id": "8c3e2cd1-3f9f-4e5b-91f6-89cc67ae0d2b",
   "metadata": {},
   "outputs": [
    {
     "name": "stdout",
     "output_type": "stream",
     "text": [
      "[[1 2 3 4 5]]\n"
     ]
    }
   ],
   "source": [
    "print(arr8)"
   ]
  },
  {
   "cell_type": "code",
   "execution_count": 48,
   "id": "4b922758-a822-4ad1-bb45-a7fcda0211a2",
   "metadata": {},
   "outputs": [
    {
     "name": "stdout",
     "output_type": "stream",
     "text": [
      "[[1 2 3 4 5]\n",
      " [1 2 3 4 5]\n",
      " [1 2 3 4 5]]\n"
     ]
    }
   ],
   "source": [
    "print(rep1)"
   ]
  },
  {
   "cell_type": "code",
   "execution_count": 49,
   "id": "0ff953c8-6012-4d2f-8af1-72078dc3b758",
   "metadata": {},
   "outputs": [],
   "source": [
    "# contoh membuat matrix dengan kondisi tertentu\n",
    "\n",
    "# 1 1 1 1 1\n",
    "# 1 0 0 0 1\n",
    "# 1 0 9 0 1\n",
    "# 1 0 0 0 1\n",
    "# 1 1 1 1 1"
   ]
  },
  {
   "cell_type": "code",
   "execution_count": 50,
   "id": "568b3d63-9fe4-453b-8a60-184c07556c16",
   "metadata": {},
   "outputs": [
    {
     "name": "stdout",
     "output_type": "stream",
     "text": [
      "[[1. 1. 1. 1. 1.]\n",
      " [1. 1. 1. 1. 1.]\n",
      " [1. 1. 1. 1. 1.]\n",
      " [1. 1. 1. 1. 1.]\n",
      " [1. 1. 1. 1. 1.]]\n"
     ]
    }
   ],
   "source": [
    "# step 1\n",
    "output = np.ones((5, 5))\n",
    "print(output)"
   ]
  },
  {
   "cell_type": "code",
   "execution_count": 60,
   "id": "5f384b14-fac8-47be-976d-1ec5ea0eb700",
   "metadata": {},
   "outputs": [],
   "source": [
    "# cara 1: replace index\n",
    "output[1][1:-1] = 0\n",
    "output[2][1:-1] = 0\n",
    "output[3][1:-1] = 0\n",
    "output[2][2] = 9"
   ]
  },
  {
   "cell_type": "code",
   "execution_count": 61,
   "id": "18828288-d802-4549-8d67-a6aadad9f4e5",
   "metadata": {},
   "outputs": [
    {
     "name": "stdout",
     "output_type": "stream",
     "text": [
      "[[1. 1. 1. 1. 1.]\n",
      " [1. 0. 0. 0. 1.]\n",
      " [1. 0. 9. 0. 1.]\n",
      " [1. 0. 0. 0. 1.]\n",
      " [1. 1. 1. 1. 1.]]\n"
     ]
    }
   ],
   "source": [
    "# hasil cara 1\n",
    "print(output)"
   ]
  },
  {
   "cell_type": "code",
   "execution_count": 64,
   "id": "80823be7-b172-4238-a9ae-f6a08f7ea987",
   "metadata": {},
   "outputs": [
    {
     "data": {
      "text/plain": [
       "array([[1., 1., 1., 1., 1.],\n",
       "       [1., 1., 1., 1., 1.],\n",
       "       [1., 1., 1., 1., 1.],\n",
       "       [1., 1., 1., 1., 1.],\n",
       "       [1., 1., 1., 1., 1.]])"
      ]
     },
     "execution_count": 64,
     "metadata": {},
     "output_type": "execute_result"
    }
   ],
   "source": [
    "# cara 2: buat nilai dari np.zeros\n",
    "output2 = np.ones((5, 5))\n",
    "output2"
   ]
  },
  {
   "cell_type": "code",
   "execution_count": 67,
   "id": "d3f62ed4-3c14-4e82-ab70-878f659396fc",
   "metadata": {},
   "outputs": [
    {
     "data": {
      "text/plain": [
       "array([[0., 0., 0.],\n",
       "       [0., 0., 0.],\n",
       "       [0., 0., 0.]])"
      ]
     },
     "execution_count": 67,
     "metadata": {},
     "output_type": "execute_result"
    }
   ],
   "source": [
    "z = np.zeros((3, 3))\n",
    "z"
   ]
  },
  {
   "cell_type": "code",
   "execution_count": 69,
   "id": "dabd5e00-2484-4963-961f-a6523d506bcd",
   "metadata": {},
   "outputs": [
    {
     "data": {
      "text/plain": [
       "array([[1., 1., 1., 1., 1.],\n",
       "       [1., 0., 0., 0., 1.],\n",
       "       [1., 0., 0., 0., 1.],\n",
       "       [1., 0., 0., 0., 1.],\n",
       "       [1., 1., 1., 1., 1.]])"
      ]
     },
     "execution_count": 69,
     "metadata": {},
     "output_type": "execute_result"
    }
   ],
   "source": [
    "output2[1:4, 1:4] = z\n",
    "output2"
   ]
  },
  {
   "cell_type": "code",
   "execution_count": 70,
   "id": "fba1e6f8-f021-4f08-96e3-43a04d2a558c",
   "metadata": {},
   "outputs": [
    {
     "data": {
      "text/plain": [
       "array([[1., 1., 1., 1., 1.],\n",
       "       [1., 0., 0., 0., 1.],\n",
       "       [1., 0., 9., 0., 1.],\n",
       "       [1., 0., 0., 0., 1.],\n",
       "       [1., 1., 1., 1., 1.]])"
      ]
     },
     "execution_count": 70,
     "metadata": {},
     "output_type": "execute_result"
    }
   ],
   "source": [
    "output2[2][2] = 9\n",
    "output2"
   ]
  },
  {
   "cell_type": "markdown",
   "id": "30fcd557-4424-4213-a17f-2f96f6c6b058",
   "metadata": {},
   "source": [
    "> Dokumentasi lanjutan mengenai array: https://numpy.org/doc/stable/user/basics.creation.html#arrays-creation"
   ]
  },
  {
   "cell_type": "markdown",
   "id": "72692687-a1cf-44a8-95c1-c60c9dfd6a68",
   "metadata": {
    "jp-MarkdownHeadingCollapsed": true,
    "tags": []
   },
   "source": [
    "#### 3. MANIPULATE ARRAY"
   ]
  },
  {
   "cell_type": "markdown",
   "id": "93b3251e-0fae-4e1e-8dcb-f6950f12d6e2",
   "metadata": {},
   "source": [
    "> Ada beberapa fungsi lain yang sering dipakai untuk manipulasi array, beberapa diantaranya adalah `asarray()`, `arange()`, dan `reshape()`."
   ]
  },
  {
   "cell_type": "code",
   "execution_count": 3,
   "id": "0fb70b49-252b-401c-bdbf-dbfd9554246b",
   "metadata": {},
   "outputs": [
    {
     "data": {
      "text/plain": [
       "array([1, 2, 3, 4])"
      ]
     },
     "execution_count": 3,
     "metadata": {},
     "output_type": "execute_result"
    }
   ],
   "source": [
    "# contoh asarray, mengubah input menjadi array\n",
    "list1 = [1, 2, 3, 4]\n",
    "np.asarray(list1)"
   ]
  },
  {
   "cell_type": "code",
   "execution_count": 14,
   "id": "963b5d9d-5024-48f4-9e04-c86553a1b212",
   "metadata": {},
   "outputs": [
    {
     "name": "stdout",
     "output_type": "stream",
     "text": [
      "Interval 1:  [1 2 3 4 5 6 7 8 9]\n",
      "Interval 2:  [ 1  3  5  7  9 11 13 15 17 19]\n"
     ]
    }
   ],
   "source": [
    "# contoh arrange, untuk mendapatkan array yang intervalnya sama\n",
    "print(\"Interval 1: \", np.arange(1, 10, 1))\n",
    "print(\"Interval 2: \", np.arange(1, 20, 2))  # start, end-1, interval"
   ]
  },
  {
   "cell_type": "code",
   "execution_count": 11,
   "id": "6acf30ef-3d28-4c2e-943f-e6b474f9352a",
   "metadata": {},
   "outputs": [
    {
     "name": "stdout",
     "output_type": "stream",
     "text": [
      "[[ 1  2  3]\n",
      " [ 4  5  6]\n",
      " [ 7  8  9]\n",
      " [10 11 12]]\n",
      "Shape awal:  (4, 3)\n"
     ]
    }
   ],
   "source": [
    "# contoh reshape, mengubah shape array\n",
    "arr = np.array([(1, 2, 3), (4, 5, 6), (7, 8, 9), (10, 11, 12)])\n",
    "print(arr)\n",
    "print(\"Shape awal: \", arr.shape)"
   ]
  },
  {
   "cell_type": "code",
   "execution_count": 12,
   "id": "a02cc2f3-dbd5-4513-83b1-1c87a268d4fe",
   "metadata": {},
   "outputs": [
    {
     "name": "stdout",
     "output_type": "stream",
     "text": [
      "[[ 1  2  3  4  5  6]\n",
      " [ 7  8  9 10 11 12]]\n",
      "Setelah di reshape:  (2, 6)\n"
     ]
    }
   ],
   "source": [
    "# lakukan reshape, perkalian jumlah shape array harus sama\n",
    "print(arr.reshape(2, 6))\n",
    "print(\"Setelah di reshape: \", arr.reshape(2, 6).shape)"
   ]
  },
  {
   "cell_type": "code",
   "execution_count": 15,
   "id": "6c77e4c9-fdd1-4548-ab35-4ea4a5582a62",
   "metadata": {},
   "outputs": [
    {
     "name": "stdout",
     "output_type": "stream",
     "text": [
      "[[ 1  4  7 10]\n",
      " [ 2  5  8 11]\n",
      " [ 3  6  9 12]]\n",
      "\n",
      " (3, 4)\n"
     ]
    }
   ],
   "source": [
    "# perbedaan dengan transpose\n",
    "print(arr.T)\n",
    "print(\"\\n\", arr.T.shape)"
   ]
  },
  {
   "cell_type": "markdown",
   "id": "ec45e568-eed6-4324-8e47-d765b2d0268b",
   "metadata": {},
   "source": [
    "> Selain itu, kita juga bisa menambahkan suatu array pada NumPy, mirip append pada list.\n",
    "\n",
    "> Cara dengan `hstack` (append data secara horizontal) dan `vstack` (append secara vertikal)."
   ]
  },
  {
   "cell_type": "code",
   "execution_count": 16,
   "id": "009a8087-3971-4e6d-bf21-4c4f5825252e",
   "metadata": {},
   "outputs": [],
   "source": [
    "# contoh hstack dan vstack vector\n",
    "v1 = np.array([1, 2, 3])\n",
    "v2 = np.array([4, 5, 6])"
   ]
  },
  {
   "cell_type": "code",
   "execution_count": 18,
   "id": "69a90fbf-80fe-457d-a1a2-1717cefa4a88",
   "metadata": {},
   "outputs": [
    {
     "name": "stdout",
     "output_type": "stream",
     "text": [
      "Vector hstack: [4 5 6 1 2 3]\n",
      "Vector vstack:\n",
      " [[1 2 3]\n",
      " [4 5 6]]\n"
     ]
    }
   ],
   "source": [
    "# print hasil stack\n",
    "print(\"Vector hstack:\", np.hstack((v2, v1)))\n",
    "print(\"Vector vstack:\\n\", np.vstack((v1, v2)))"
   ]
  },
  {
   "cell_type": "markdown",
   "id": "cf27968b-add3-477e-958c-0242ad568e3b",
   "metadata": {},
   "source": [
    "> Jika `hstack` pada array (vector) maka dia akan tetap jadi vector, tetapi jika `vstack` maka dia akan berubah menjadi matrix."
   ]
  },
  {
   "cell_type": "code",
   "execution_count": 20,
   "id": "3a4e73e5-8cea-4221-a4c8-0de09dc72529",
   "metadata": {},
   "outputs": [
    {
     "name": "stdout",
     "output_type": "stream",
     "text": [
      "Dimensi vector hstack: 1\n",
      "Dimensi vector vstack: 2\n"
     ]
    }
   ],
   "source": [
    "# print dimensi stack\n",
    "print(\"Dimensi vector hstack:\", np.hstack((v2, v1)).ndim)\n",
    "print(\"Dimensi vector vstack:\", np.vstack((v1, v2)).ndim)"
   ]
  },
  {
   "cell_type": "code",
   "execution_count": 21,
   "id": "0938e755-3e9e-47c8-906d-201fef27c778",
   "metadata": {},
   "outputs": [],
   "source": [
    "# contoh hstack dan vstack matrix\n",
    "m1 = np.ones((4, 3))\n",
    "m2 = np.zeros((4, 3))"
   ]
  },
  {
   "cell_type": "code",
   "execution_count": 22,
   "id": "c65dc765-30eb-4287-bdec-f063799c1e9b",
   "metadata": {},
   "outputs": [
    {
     "data": {
      "text/plain": [
       "array([[1., 1., 1.],\n",
       "       [1., 1., 1.],\n",
       "       [1., 1., 1.],\n",
       "       [1., 1., 1.]])"
      ]
     },
     "execution_count": 22,
     "metadata": {},
     "output_type": "execute_result"
    }
   ],
   "source": [
    "m1"
   ]
  },
  {
   "cell_type": "code",
   "execution_count": 23,
   "id": "774126c4-c506-4bd1-825f-edc3fdab501e",
   "metadata": {},
   "outputs": [
    {
     "data": {
      "text/plain": [
       "array([[0., 0., 0.],\n",
       "       [0., 0., 0.],\n",
       "       [0., 0., 0.],\n",
       "       [0., 0., 0.]])"
      ]
     },
     "execution_count": 23,
     "metadata": {},
     "output_type": "execute_result"
    }
   ],
   "source": [
    "m2"
   ]
  },
  {
   "cell_type": "code",
   "execution_count": 25,
   "id": "96294a20-4407-4b30-b85f-af9b8e6ebc8f",
   "metadata": {},
   "outputs": [
    {
     "name": "stdout",
     "output_type": "stream",
     "text": [
      "Vector hstack: [[1. 1. 1. 0. 0. 0.]\n",
      " [1. 1. 1. 0. 0. 0.]\n",
      " [1. 1. 1. 0. 0. 0.]\n",
      " [1. 1. 1. 0. 0. 0.]]\n",
      "\n",
      "Vector vstack:\n",
      " [[1. 1. 1.]\n",
      " [1. 1. 1.]\n",
      " [1. 1. 1.]\n",
      " [1. 1. 1.]\n",
      " [0. 0. 0.]\n",
      " [0. 0. 0.]\n",
      " [0. 0. 0.]\n",
      " [0. 0. 0.]]\n"
     ]
    }
   ],
   "source": [
    "# print hasil stack\n",
    "print(\"Vector hstack:\", np.hstack((m1, m2)))\n",
    "print(\"\\nVector vstack:\\n\", np.vstack((m1, m2)))"
   ]
  },
  {
   "cell_type": "code",
   "execution_count": 26,
   "id": "9335a1a7-4d58-4e6e-800c-15280e72830e",
   "metadata": {},
   "outputs": [
    {
     "name": "stdout",
     "output_type": "stream",
     "text": [
      "Dimensi vector hstack: 2\n",
      "Shape vector hstack: (4, 6)\n",
      "\n",
      "Dimensi vector vstack: 2\n",
      "Shape vector hstack: (8, 3)\n"
     ]
    }
   ],
   "source": [
    "# print dimensi dan shape stack\n",
    "print(\"Dimensi vector hstack:\", np.hstack((m1, m2)).ndim)\n",
    "print(\"Shape vector hstack:\", np.hstack((m1, m2)).shape)\n",
    "\n",
    "print(\"\\nDimensi vector vstack:\", np.vstack((m1, m2)).ndim)\n",
    "print(\"Shape vector hstack:\", np.vstack((m1, m2)).shape)"
   ]
  },
  {
   "cell_type": "markdown",
   "id": "754f6160-3995-40a4-9ab3-fa78d5953bfa",
   "metadata": {
    "jp-MarkdownHeadingCollapsed": true,
    "tags": []
   },
   "source": [
    "#### 4. OPERASI ARRAY"
   ]
  },
  {
   "cell_type": "markdown",
   "id": "98505558-1945-4b17-978b-47d692c3a912",
   "metadata": {},
   "source": [
    "> Modul pada NumPy mendukung operasi sederhana array matematika.\n",
    "\n",
    "> Dokumentasi: https://numpy.org/doc/stable/reference/routines.math.html"
   ]
  },
  {
   "cell_type": "code",
   "execution_count": 27,
   "id": "b3db7038-a388-4ade-956f-0a355b5c0dbc",
   "metadata": {},
   "outputs": [
    {
     "name": "stdout",
     "output_type": "stream",
     "text": [
      "array1 = [5 8 9 2 1 9 1 1 7 6]\n"
     ]
    }
   ],
   "source": [
    "# buat array baru (random)\n",
    "arr1 = np.random.randint(1, 10, 10)\n",
    "print(\"array1 =\", arr1)"
   ]
  },
  {
   "cell_type": "code",
   "execution_count": 28,
   "id": "1e1b365a-7aae-42d5-9fb5-ef155cb4483c",
   "metadata": {},
   "outputs": [
    {
     "name": "stdout",
     "output_type": "stream",
     "text": [
      "array1 = [1 9 6 3 3 4 3 4 9 1]\n"
     ]
    }
   ],
   "source": [
    "# buat array baru kedua\n",
    "arr2 = np.random.randint(1, 10, 10)\n",
    "print(\"array1 =\", arr2)"
   ]
  },
  {
   "cell_type": "code",
   "execution_count": 32,
   "id": "42a16dd2-0dbe-4f35-b134-6455d16fc9d4",
   "metadata": {},
   "outputs": [
    {
     "name": "stdout",
     "output_type": "stream",
     "text": [
      "tambah  =  [ 6 17 15  5  4 13  4  5 16  7]\n",
      "kurang  =  [ 4 -1  3 -1 -2  5 -2 -3 -2  5]\n",
      "kali    =  [ 5 72 54  6  3 36  3  4 63  6]\n",
      "bagi    =  [5.         0.88888889 1.5        0.66666667 0.33333333 2.25\n",
      " 0.33333333 0.25       0.77777778 6.        ]\n",
      "modulo  =  [0 8 3 2 1 1 1 1 7 0]\n",
      "pangkat =  [        5 134217728    531441         8         1      6561         1\n",
      "         1  40353607         6]\n"
     ]
    }
   ],
   "source": [
    "# contoh operasi elemen array (dengan operator)\n",
    "print(\"tambah  = \", arr1 + arr2)\n",
    "print(\"kurang  = \", arr1 - arr2)\n",
    "print(\"kali    = \", arr1 * arr2)\n",
    "print(\"bagi    = \", arr1 / arr2)\n",
    "print(\"modulo  = \", arr1 % arr2)\n",
    "print(\"pangkat = \", arr1 ** arr2)"
   ]
  },
  {
   "cell_type": "markdown",
   "id": "653a6234-5939-4a1a-867c-b97b83e2386f",
   "metadata": {},
   "source": [
    "> Kita dapat menggunakan beberapa function yang disediakan NumPy, diantatanya adalah `sqrt()`, `exp()`, `add()`, `multiply()`, `min()`, `max()`, `subtract()`, dan `divide()`."
   ]
  },
  {
   "cell_type": "code",
   "execution_count": 33,
   "id": "2f86d09a-5525-4b99-90cd-050d73a3b2b0",
   "metadata": {},
   "outputs": [
    {
     "data": {
      "text/plain": [
       "1.0"
      ]
     },
     "execution_count": 33,
     "metadata": {},
     "output_type": "execute_result"
    }
   ],
   "source": [
    "# fungsi sqrt\n",
    "np.sqrt(1)"
   ]
  },
  {
   "cell_type": "code",
   "execution_count": 34,
   "id": "3c3a0754-ba4d-4902-a1de-7faf8eee5fb7",
   "metadata": {},
   "outputs": [
    {
     "data": {
      "text/plain": [
       "array([1.48413159e+02, 2.98095799e+03, 8.10308393e+03, 7.38905610e+00,\n",
       "       2.71828183e+00, 8.10308393e+03, 2.71828183e+00, 2.71828183e+00,\n",
       "       1.09663316e+03, 4.03428793e+02])"
      ]
     },
     "execution_count": 34,
     "metadata": {},
     "output_type": "execute_result"
    }
   ],
   "source": [
    "# fungsi exp\n",
    "np.exp(arr1)"
   ]
  },
  {
   "cell_type": "code",
   "execution_count": 35,
   "id": "ea8d773d-dbda-4f33-b9b0-35dec770bd19",
   "metadata": {},
   "outputs": [
    {
     "data": {
      "text/plain": [
       "9"
      ]
     },
     "execution_count": 35,
     "metadata": {},
     "output_type": "execute_result"
    }
   ],
   "source": [
    "# fungsi max\n",
    "np.max(arr1)"
   ]
  },
  {
   "cell_type": "code",
   "execution_count": 36,
   "id": "feeaf681-26c0-4bd5-b996-6b4d3a925f50",
   "metadata": {},
   "outputs": [
    {
     "data": {
      "text/plain": [
       "1"
      ]
     },
     "execution_count": 36,
     "metadata": {},
     "output_type": "execute_result"
    }
   ],
   "source": [
    "# fungsi min\n",
    "np.min(arr1)"
   ]
  },
  {
   "cell_type": "code",
   "execution_count": 37,
   "id": "a5739d51-0c06-40bd-844c-1b2f733be6b5",
   "metadata": {},
   "outputs": [
    {
     "data": {
      "text/plain": [
       "array([ 6, 17, 15,  5,  4, 13,  4,  5, 16,  7])"
      ]
     },
     "execution_count": 37,
     "metadata": {},
     "output_type": "execute_result"
    }
   ],
   "source": [
    "# fungsi add\n",
    "np.add(arr1, arr2)"
   ]
  },
  {
   "cell_type": "code",
   "execution_count": 40,
   "id": "f4d7aafb-f123-4197-b756-6023861ad465",
   "metadata": {},
   "outputs": [
    {
     "data": {
      "text/plain": [
       "array([-2, -5, -6,  1,  2, -6,  2,  2, -4, -3])"
      ]
     },
     "execution_count": 40,
     "metadata": {},
     "output_type": "execute_result"
    }
   ],
   "source": [
    "# fungsi subtract\n",
    "np.subtract(3, arr1)"
   ]
  },
  {
   "cell_type": "code",
   "execution_count": 42,
   "id": "2fdb0ec9-5778-4cb1-a037-d37554d51879",
   "metadata": {},
   "outputs": [
    {
     "data": {
      "text/plain": [
       "array([2.5, 4. , 4.5, 1. , 0.5, 4.5, 0.5, 0.5, 3.5, 3. ])"
      ]
     },
     "execution_count": 42,
     "metadata": {},
     "output_type": "execute_result"
    }
   ],
   "source": [
    "# fungsi divide\n",
    "np.divide(arr1, 2)"
   ]
  },
  {
   "cell_type": "code",
   "execution_count": 43,
   "id": "9be389b6-287a-4bf6-bf3f-d2911b162a65",
   "metadata": {},
   "outputs": [
    {
     "data": {
      "text/plain": [
       "array([ 5, 72, 54,  6,  3, 36,  3,  4, 63,  6])"
      ]
     },
     "execution_count": 43,
     "metadata": {},
     "output_type": "execute_result"
    }
   ],
   "source": [
    "# fungsi multiply\n",
    "np.multiply(arr1, arr2)"
   ]
  },
  {
   "cell_type": "code",
   "execution_count": 45,
   "id": "adca7ee7-68a9-48c4-b2e1-e85bf569f367",
   "metadata": {},
   "outputs": [
    {
     "data": {
      "text/plain": [
       "43"
      ]
     },
     "execution_count": 45,
     "metadata": {},
     "output_type": "execute_result"
    }
   ],
   "source": [
    "# fungsi sum\n",
    "np.sum(arr2)"
   ]
  },
  {
   "cell_type": "code",
   "execution_count": 46,
   "id": "75eadfb4-191d-4034-8a39-31c39b6174ce",
   "metadata": {},
   "outputs": [
    {
     "name": "stdout",
     "output_type": "stream",
     "text": [
      "10\n",
      "[4 6]\n",
      "[3 7]\n"
     ]
    }
   ],
   "source": [
    "# contoh fungsi sum matrix\n",
    "arr3 = np.array([[1, 2], [3, 4]])\n",
    "\n",
    "print(np.sum(arr3))  # sum semua elemen\n",
    "print(np.sum(arr3, axis=0))  # sum element pada kolom\n",
    "print(np.sum(arr3, axis=1))  # sum element pada baris"
   ]
  },
  {
   "cell_type": "markdown",
   "id": "cc98cf13-6fc9-4d79-8913-7a1d7ea7f68a",
   "metadata": {},
   "source": [
    "> Pada NumPy juga disediakan fungsi untuk melakukan perkalian matrix (bukan elementnya), yaitu dengan `dot()` atau `matmul()`.\n",
    "\n",
    "> Dokumentasi: https://numpy.org/doc/stable/reference/generated/numpy.dot.html\n"
   ]
  },
  {
   "cell_type": "markdown",
   "id": "7807f029-15a3-4ccf-bc2c-e3608d2ec654",
   "metadata": {},
   "source": [
    "![img](https://saintif.com/wp-content/uploads/2020/07/image-18.png)"
   ]
  },
  {
   "cell_type": "code",
   "execution_count": 47,
   "id": "dd0ffe94-51df-4fca-bbaf-c5403ce61995",
   "metadata": {},
   "outputs": [],
   "source": [
    "# contoh fungsi dot dan matmul (prefered: 2D)\n",
    "arr3 = np.array([1, 2])\n",
    "arr4 = np.array([3, 4])"
   ]
  },
  {
   "cell_type": "code",
   "execution_count": 49,
   "id": "f77eaec5-84ed-449e-ac8c-48fcc45661c7",
   "metadata": {},
   "outputs": [
    {
     "name": "stdout",
     "output_type": "stream",
     "text": [
      "dengan dot() arr3.arr4 =  11\n",
      "dengan matmul() arr3.arr4 =  11\n"
     ]
    }
   ],
   "source": [
    "# print hasil\n",
    "print(\"dengan dot() arr3.arr4 = \", np.dot(arr3, arr4))\n",
    "print(\"dengan matmul() arr3.arr4 = \", np.matmul(arr3, arr4))"
   ]
  },
  {
   "cell_type": "code",
   "execution_count": 51,
   "id": "8dd0e154-c6b7-4687-99a8-3eea525983ed",
   "metadata": {},
   "outputs": [],
   "source": [
    "# contoh dengan 2D array (matrix)\n",
    "x = np.array([[1, 2], [3, 4]])\n",
    "y = np.array([[5, 6], [7, 8]])"
   ]
  },
  {
   "cell_type": "code",
   "execution_count": 52,
   "id": "0710aec6-76e0-4dd1-a73c-69e30cfb49e8",
   "metadata": {},
   "outputs": [
    {
     "name": "stdout",
     "output_type": "stream",
     "text": [
      "x.y:\n",
      " [[19 22]\n",
      " [43 50]]\n",
      "y.x:\n",
      " [[23 34]\n",
      " [31 46]]\n"
     ]
    }
   ],
   "source": [
    "# haril dot\n",
    "print(\"x.y:\\n\", np.dot(x, y))\n",
    "print(\"y.x:\\n\", np.dot(y, x))"
   ]
  },
  {
   "cell_type": "code",
   "execution_count": 53,
   "id": "d5840928-fa08-4088-bb46-7a3e7a856536",
   "metadata": {},
   "outputs": [
    {
     "name": "stdout",
     "output_type": "stream",
     "text": [
      "x.y:\n",
      " [[19 22]\n",
      " [43 50]]\n",
      "y.x:\n",
      " [[23 34]\n",
      " [31 46]]\n"
     ]
    }
   ],
   "source": [
    "# haril matmul\n",
    "print(\"x.y:\\n\", np.matmul(x, y))\n",
    "print(\"y.x:\\n\", np.matmul(y, x))"
   ]
  },
  {
   "cell_type": "markdown",
   "id": "c532faf8-d904-4026-b666-67c0c0fff468",
   "metadata": {
    "jp-MarkdownHeadingCollapsed": true,
    "tags": []
   },
   "source": [
    "#### 5. ALJABAR LINEAR"
   ]
  },
  {
   "cell_type": "markdown",
   "id": "9d11abb4-a866-4959-a1bb-3de4198e78ac",
   "metadata": {},
   "source": [
    "> Keunggulan NumPy array dibanding list adalah konsumsi memori dan runtime yang lebih kecil dan cepat, serta mempermudah dalam melakukan operasi aljabar linear, terutama operasi pada vektor (1D array) dan matrix (2D array) dengan `linalg()`.\n",
    "\n",
    "> Dokumentasi: https://numpy.org/doc/stable/reference/routines.linalg.html\n"
   ]
  },
  {
   "cell_type": "markdown",
   "id": "4b931ce2-5f2e-435f-ad74-9d67370885a0",
   "metadata": {},
   "source": [
    "> **Contoh Soal 1**:\n",
    "\n",
    "> a) $2x_{1}$ + $3x_{2}$ = 10\n",
    "\n",
    "> b) $x_{1}$ + $2x_{2}$ = 5\n"
   ]
  },
  {
   "cell_type": "code",
   "execution_count": 55,
   "id": "bcda4717-1e7b-490f-b9e0-b37137564979",
   "metadata": {},
   "outputs": [],
   "source": [
    "# step 1: masukkan persamaan dalam bentuk list\n",
    "hitungan = [[2, 3], [1, 2]]\n",
    "hasil = [10, 5]"
   ]
  },
  {
   "cell_type": "code",
   "execution_count": 56,
   "id": "69ed47b5-c321-4ed0-b388-b7f00573b4ad",
   "metadata": {},
   "outputs": [],
   "source": [
    "# step 2: rubah ke array\n",
    "arr_hit = np.asarray(hitungan)\n",
    "arr_has = np.asarray(hasil)"
   ]
  },
  {
   "cell_type": "code",
   "execution_count": 59,
   "id": "3b349819-0e68-4d74-95e9-349ed1f2ba47",
   "metadata": {},
   "outputs": [
    {
     "name": "stdout",
     "output_type": "stream",
     "text": [
      "Array hitung: \n",
      " [[2 3]\n",
      " [1 2]]\n",
      "\n",
      "Array hasil: \n",
      " [10  5]\n"
     ]
    }
   ],
   "source": [
    "print(\"Array hitung: \\n\", arr_hit)\n",
    "print(\"\\nArray hasil: \\n\", arr_has)"
   ]
  },
  {
   "cell_type": "code",
   "execution_count": 72,
   "id": "0f35f48e-a2bf-4d51-90f9-cb7635d288b8",
   "metadata": {},
   "outputs": [
    {
     "name": "stdout",
     "output_type": "stream",
     "text": [
      "hasil perhitungan linear aljabar = [5. 0.]\n",
      "hasil x1 adalah = 5.0\n",
      "hasil x2 adalah = 0.0\n"
     ]
    }
   ],
   "source": [
    "# solve dengan fungsi `linalg.solve(a, b)`\n",
    "hasil_pers = np.linalg.solve(arr_hit, arr_has)\n",
    "print(\"hasil perhitungan linear aljabar =\", hasil_pers)\n",
    "print(\"hasil x1 adalah =\", hasil_pers[0])\n",
    "print(\"hasil x2 adalah =\", hasil_pers[1])"
   ]
  },
  {
   "cell_type": "code",
   "execution_count": 64,
   "id": "55137333-b760-4abe-8b48-5ba43ee7d94a",
   "metadata": {},
   "outputs": [
    {
     "data": {
      "text/plain": [
       "True"
      ]
     },
     "execution_count": 64,
     "metadata": {},
     "output_type": "execute_result"
    }
   ],
   "source": [
    "# cek hasil persamaan\n",
    "np.allclose(np.dot(arr_hit, hasil_pers), arr_has)"
   ]
  },
  {
   "cell_type": "code",
   "execution_count": 74,
   "id": "71c199d9-e05a-427b-a7d6-9e267bcd62a3",
   "metadata": {},
   "outputs": [
    {
     "data": {
      "text/plain": [
       "1.0"
      ]
     },
     "execution_count": 74,
     "metadata": {},
     "output_type": "execute_result"
    }
   ],
   "source": [
    "# cari determinan\n",
    "np.linalg.det(arr_hit)"
   ]
  },
  {
   "cell_type": "markdown",
   "id": "39e9238f-9adc-48de-b1a6-0f140b4b862d",
   "metadata": {},
   "source": [
    "> **Contoh Soal 2:**\n",
    "\n",
    "> $x_{1}$  + $4x_{2}$ + $2x_{3}$ = 20\n",
    "\n",
    "> $2x_{1}$ + $3x_{2}$ + $6x_{3}$ = 25\n",
    "\n",
    "> $3x_{1}$ + $x_{2}$  + $2x_{3}$ = 16"
   ]
  },
  {
   "cell_type": "code",
   "execution_count": 65,
   "id": "6ec17e43-b97c-4b01-8318-fc0ddaf2f60f",
   "metadata": {},
   "outputs": [],
   "source": [
    "# contoh buat list dulu\n",
    "hit_a = [[1, 4, 2], [2, 3, 6], [3, 1, 2]]\n",
    "has_a = [20, 25, 16]"
   ]
  },
  {
   "cell_type": "code",
   "execution_count": 69,
   "id": "65daea7b-708a-4ad4-b961-fa73b05c4676",
   "metadata": {},
   "outputs": [
    {
     "name": "stdout",
     "output_type": "stream",
     "text": [
      "Array_hitung: \n",
      " [[1 4 2]\n",
      " [2 3 6]\n",
      " [3 1 2]]\n",
      "\n",
      "Array_hasil: \n",
      " [20 25 16]\n"
     ]
    }
   ],
   "source": [
    "# dibuat dalam bentuk array\n",
    "hit_arr_a = np.asarray(hit_a)\n",
    "has_arr_a = np.asarray(has_a)\n",
    "\n",
    "print(\"Array_hitung: \\n\", hit_arr_a)\n",
    "print(\"\\nArray_hasil: \\n\", has_arr_a)"
   ]
  },
  {
   "cell_type": "code",
   "execution_count": 71,
   "id": "5e2dec22-493a-4cc6-9a65-1b2b5ca82162",
   "metadata": {},
   "outputs": [
    {
     "name": "stdout",
     "output_type": "stream",
     "text": [
      "hasil perhitungan linear aljabar = [3.28571429 3.52380952 1.30952381]\n",
      "hasil x1 adalah = 3.285714285714286\n",
      "hasil x2 adalah = 3.5238095238095246\n",
      "hasil x3 adalah = 1.309523809523809\n"
     ]
    }
   ],
   "source": [
    "# solve persamaan lialg.solve\n",
    "hasil_pers1 = np.linalg.solve(hit_arr_a, has_arr_a)\n",
    "print(\"hasil perhitungan linear aljabar =\", hasil_pers1)\n",
    "print(\"hasil x1 adalah =\", hasil_pers1[0])\n",
    "print(\"hasil x2 adalah =\", hasil_pers1[1])\n",
    "print(\"hasil x3 adalah =\", hasil_pers1[2])"
   ]
  },
  {
   "cell_type": "code",
   "execution_count": 73,
   "id": "822f5b7b-2a98-483e-9fe4-cee8373a9012",
   "metadata": {},
   "outputs": [
    {
     "data": {
      "text/plain": [
       "True"
      ]
     },
     "execution_count": 73,
     "metadata": {},
     "output_type": "execute_result"
    }
   ],
   "source": [
    "# cek hasil persamaan\n",
    "np.allclose(np.dot(hit_arr_a, hasil_pers1), has_arr_a)"
   ]
  },
  {
   "cell_type": "markdown",
   "id": "ca900490-7829-41ed-800c-bdc4f82fa9aa",
   "metadata": {
    "jp-MarkdownHeadingCollapsed": true,
    "tags": []
   },
   "source": [
    "#### 6. BASIC STATISTIC"
   ]
  },
  {
   "cell_type": "markdown",
   "id": "d687d9db-7fcc-4c5b-b4ef-7ff5e5dffc10",
   "metadata": {},
   "source": [
    "> Dokumentasi: https://numpy.org/doc/stable/reference/routines.statistics.html\n"
   ]
  },
  {
   "cell_type": "code",
   "execution_count": 75,
   "id": "2de958ef-cedd-44c1-9868-0959f32f538d",
   "metadata": {},
   "outputs": [
    {
     "name": "stdout",
     "output_type": "stream",
     "text": [
      "[4.07794232 6.16652435 3.81239216 4.80048405 4.95992574 4.9498822\n",
      " 4.0898645  4.65097918 5.09595204 4.8534647 ]\n"
     ]
    }
   ],
   "source": [
    "# contoh buat array baru\n",
    "norm_arr = np.random.normal(5, 0.5, 10)\n",
    "print(norm_arr)"
   ]
  },
  {
   "cell_type": "code",
   "execution_count": 76,
   "id": "faf74ec9-26a5-4118-a99b-d8847ef47378",
   "metadata": {},
   "outputs": [
    {
     "name": "stdout",
     "output_type": "stream",
     "text": [
      "Hasil min        = 3.8123921580205566\n",
      "Hasil max        = 6.166524353662672\n",
      "Hasil mean       = 4.745741125762879\n",
      "Hasil median     = 4.826974377781703\n",
      "Hasil stdev      = 0.632429597578569\n",
      "Hasil quantile   = 4.230143172942444\n",
      "Hasil percentile = 3.8183670367192897\n"
     ]
    }
   ],
   "source": [
    "# contoh beberapa statistical function\n",
    "print(\"Hasil min        =\", np.min(norm_arr))\n",
    "print(\"Hasil max        =\", np.max(norm_arr))\n",
    "print(\"Hasil mean       =\", np.mean(norm_arr))\n",
    "print(\"Hasil median     =\", np.median(norm_arr))\n",
    "print(\"Hasil stdev      =\", np.std(norm_arr))\n",
    "print(\"Hasil quantile   =\", np.quantile(norm_arr, .25))\n",
    "print(\"Hasil percentile =\", np.percentile(norm_arr, .25))"
   ]
  }
 ],
 "metadata": {
  "kernelspec": {
   "display_name": "Python 3 (ipykernel)",
   "language": "python",
   "name": "python3"
  },
  "language_info": {
   "codemirror_mode": {
    "name": "ipython",
    "version": 3
   },
   "file_extension": ".py",
   "mimetype": "text/x-python",
   "name": "python",
   "nbconvert_exporter": "python",
   "pygments_lexer": "ipython3",
   "version": "3.9.12"
  }
 },
 "nbformat": 4,
 "nbformat_minor": 5
}
